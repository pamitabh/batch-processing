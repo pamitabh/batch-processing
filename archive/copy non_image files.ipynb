{
 "cells": [
  {
   "cell_type": "markdown",
   "metadata": {},
   "source": [
    "Simple code to copy non-image files while preserving the folder structure"
   ]
  },
  {
   "cell_type": "code",
   "execution_count": 47,
   "metadata": {},
   "outputs": [],
   "source": [
    "import os\n",
    "from pathlib import Path\n",
    "import shutil"
   ]
  },
  {
   "cell_type": "code",
   "execution_count": 48,
   "metadata": {},
   "outputs": [],
   "source": [
    "main_dir = r'F:\\Caudal Fin Cut_ds'\n",
    "save_dir = r'M:\\Caudal Fin Cut Assay'"
   ]
  },
  {
   "cell_type": "code",
   "execution_count": 49,
   "metadata": {},
   "outputs": [
    {
     "name": "stdout",
     "output_type": "stream",
     "text": [
      "found dir: time lapse_04_18_23_day_downsampled\n",
      "found dir: time lapse_04_18_23_night_downsampled\n",
      "found dir: time lapse_04_19_23_day_downsampled\n",
      "found dir: time lapse_04_19_23_night_downsampled\n",
      "found dir: time lapse_04_20_23_day_downsampled\n",
      "found dir: time lapse_04_20_23_night_downsampled\n",
      "created save dir: M:\\Caudal Fin Cut Assay\\time lapse_04_18_23_day_downsampled_linking_results\n",
      "created save dir: M:\\Caudal Fin Cut Assay\\time lapse_04_18_23_night_downsampled_linking_results\n",
      "created save dir: M:\\Caudal Fin Cut Assay\\time lapse_04_19_23_day_downsampled_linking_results\n",
      "created save dir: M:\\Caudal Fin Cut Assay\\time lapse_04_19_23_night_downsampled_linking_results\n",
      "created save dir: M:\\Caudal Fin Cut Assay\\time lapse_04_20_23_day_downsampled_linking_results\n",
      "created save dir: M:\\Caudal Fin Cut Assay\\time lapse_04_20_23_night_downsampled_linking_results\n"
     ]
    }
   ],
   "source": [
    "all_sub =  os.listdir(main_dir)\n",
    "src_dir_list = []\n",
    "for sub in all_sub:\n",
    "    path = os.path.join(main_dir, sub)\n",
    "    if not os.path.isfile(path): #create dir for all dir in main_dir\n",
    "        print('found dir:', sub)\n",
    "        src_dir_list.append(sub)\n",
    "\n",
    "save_path_list = []\n",
    "for dir_name in src_dir_list:\n",
    "    path = os.path.join(main_dir, dir_name)\n",
    "    save_path = os.path.join(save_dir, dir_name+'_linking_results')\n",
    "    save_path_list.append(save_path)\n",
    "    if not os.path.exists(save_path):\n",
    "        os.mkdir(save_path)\n",
    "        print('created save dir:', save_path )"
   ]
  },
  {
   "cell_type": "code",
   "execution_count": 50,
   "metadata": {},
   "outputs": [
    {
     "name": "stdout",
     "output_type": "stream",
     "text": [
      "F:\\Caudal Fin Cut_ds\\time lapse_04_18_23_day_downsampled\\fish1\\GFP\\linking_results\\df_super_sever_gfp.csv\n",
      "F:\\Caudal Fin Cut_ds\\time lapse_04_18_23_day_downsampled\\fish1\\GFP\\linking_results\\neutrophil_trajectory.html\n",
      "F:\\Caudal Fin Cut_ds\\time lapse_04_18_23_day_downsampled\\fish1\\RFP\\linking_results\\df_super_sever_rfp.csv\n",
      "F:\\Caudal Fin Cut_ds\\time lapse_04_18_23_day_downsampled\\fish1\\RFP\\linking_results\\macrophage_trajectory.html\n",
      "F:\\Caudal Fin Cut_ds\\time lapse_04_18_23_night_downsampled\\fish1\\GFP\\linking_results\\df_super_sever_gfp.csv\n",
      "F:\\Caudal Fin Cut_ds\\time lapse_04_18_23_night_downsampled\\fish1\\GFP\\linking_results\\neutrophil_trajectory.html\n",
      "F:\\Caudal Fin Cut_ds\\time lapse_04_18_23_night_downsampled\\fish1\\RFP\\linking_results\\df_super_sever_rfp.csv\n",
      "F:\\Caudal Fin Cut_ds\\time lapse_04_18_23_night_downsampled\\fish1\\RFP\\linking_results\\macrophage_trajectory.html\n",
      "F:\\Caudal Fin Cut_ds\\time lapse_04_18_23_night_downsampled\\fish2\\GFP\\linking_results\\df_super_sever_gfp.csv\n",
      "F:\\Caudal Fin Cut_ds\\time lapse_04_18_23_night_downsampled\\fish2\\GFP\\linking_results\\neutrophil_trajectory.html\n",
      "F:\\Caudal Fin Cut_ds\\time lapse_04_18_23_night_downsampled\\fish2\\RFP\\linking_results\\df_super_sever_rfp.csv\n",
      "F:\\Caudal Fin Cut_ds\\time lapse_04_18_23_night_downsampled\\fish2\\RFP\\linking_results\\macrophage_trajectory.html\n",
      "F:\\Caudal Fin Cut_ds\\time lapse_04_19_23_day_downsampled\\fish1\\GFP\\linking_results\\df_super_sever_gfp.csv\n",
      "F:\\Caudal Fin Cut_ds\\time lapse_04_19_23_day_downsampled\\fish1\\GFP\\linking_results\\neutrophil_trajectory.html\n",
      "F:\\Caudal Fin Cut_ds\\time lapse_04_19_23_day_downsampled\\fish1\\RFP\\linking_results\\df_super_sever_rfp.csv\n",
      "F:\\Caudal Fin Cut_ds\\time lapse_04_19_23_day_downsampled\\fish1\\RFP\\linking_results\\macrophage_trajectory.html\n",
      "F:\\Caudal Fin Cut_ds\\time lapse_04_19_23_night_downsampled\\fish1\\GFP\\linking_results\\df_super_sever_gfp.csv\n",
      "F:\\Caudal Fin Cut_ds\\time lapse_04_19_23_night_downsampled\\fish1\\GFP\\linking_results\\neutrophil_trajectory.html\n",
      "F:\\Caudal Fin Cut_ds\\time lapse_04_19_23_night_downsampled\\fish1\\RFP\\linking_results\\df_super_sever_rfp.csv\n",
      "F:\\Caudal Fin Cut_ds\\time lapse_04_19_23_night_downsampled\\fish1\\RFP\\linking_results\\macrophage_trajectory.html\n",
      "F:\\Caudal Fin Cut_ds\\time lapse_04_19_23_night_downsampled\\fish2\\GFP\\linking_results\\df_super_sever_gfp.csv\n",
      "F:\\Caudal Fin Cut_ds\\time lapse_04_19_23_night_downsampled\\fish2\\GFP\\linking_results\\neutrophil_trajectory.html\n",
      "F:\\Caudal Fin Cut_ds\\time lapse_04_19_23_night_downsampled\\fish2\\RFP\\linking_results\\df_super_sever_rfp.csv\n",
      "F:\\Caudal Fin Cut_ds\\time lapse_04_19_23_night_downsampled\\fish2\\RFP\\linking_results\\macrophage_trajectory.html\n",
      "F:\\Caudal Fin Cut_ds\\time lapse_04_20_23_day_downsampled\\fish1\\GFP\\linking_results\\df_super_sever_gfp.csv\n",
      "F:\\Caudal Fin Cut_ds\\time lapse_04_20_23_day_downsampled\\fish1\\GFP\\linking_results\\neutrophil_trajectory.html\n",
      "F:\\Caudal Fin Cut_ds\\time lapse_04_20_23_day_downsampled\\fish1\\RFP\\linking_results\\df_super_sever_rfp.csv\n",
      "F:\\Caudal Fin Cut_ds\\time lapse_04_20_23_day_downsampled\\fish1\\RFP\\linking_results\\macrophage_trajectory.html\n",
      "F:\\Caudal Fin Cut_ds\\time lapse_04_20_23_night_downsampled\\fish1\\GFP\\linking_results\\df_super_sever_gfp.csv\n",
      "F:\\Caudal Fin Cut_ds\\time lapse_04_20_23_night_downsampled\\fish1\\GFP\\linking_results\\neutrophil_trajectory.html\n",
      "F:\\Caudal Fin Cut_ds\\time lapse_04_20_23_night_downsampled\\fish1\\RFP\\linking_results\\df_super_sever_rfp.csv\n",
      "F:\\Caudal Fin Cut_ds\\time lapse_04_20_23_night_downsampled\\fish1\\RFP\\linking_results\\macrophage_trajectory.html\n"
     ]
    }
   ],
   "source": [
    "for (src_dir, save_path) in zip(src_dir_list, save_path_list):\n",
    "    for root, subfolders, filenames in os.walk(os.path.join(main_dir, src_dir)):\n",
    "        for filename in filenames:\n",
    "            # print(f'Reading: {filename}')\n",
    "            \n",
    "            filepath = os.path.join(root, filename)\n",
    "            # print(f'Reading: {filepath}')\n",
    "\n",
    "            filename_list = filename.split('.')\n",
    "            og_name = filename_list[0] #first of list=name\n",
    "            ext = filename_list[-1] #last of list=extension\n",
    "\n",
    "            if ((ext=='html') or (ext=='csv')) and ('linking_results' in root): #only select these\n",
    "                print(filepath)\n",
    "                fish_dir = os.path.split(Path(root).parents[1])[-1]\n",
    "                if not os.path.exists(os.path.join(save_path, fish_dir)):\n",
    "                    os.mkdir(os.path.join(save_path, fish_dir))\n",
    "                shutil.copy(filepath, os.path.join(save_path, fish_dir))"
   ]
  }
 ],
 "metadata": {
  "kernelspec": {
   "display_name": "Python 3.9.13 ('image_analysis')",
   "language": "python",
   "name": "python3"
  },
  "language_info": {
   "codemirror_mode": {
    "name": "ipython",
    "version": 3
   },
   "file_extension": ".py",
   "mimetype": "text/x-python",
   "name": "python",
   "nbconvert_exporter": "python",
   "pygments_lexer": "ipython3",
   "version": "3.11.2"
  },
  "orig_nbformat": 4,
  "vscode": {
   "interpreter": {
    "hash": "b2793907f1a94842022a50242beefcb8b5874a941e5914a8098929a1b42a56d0"
   }
  }
 },
 "nbformat": 4,
 "nbformat_minor": 2
}
