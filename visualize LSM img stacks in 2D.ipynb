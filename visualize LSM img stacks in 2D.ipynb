{
 "cells": [
  {
   "attachments": {},
   "cell_type": "markdown",
   "metadata": {},
   "source": [
    "Author(s): Piyush Amitabh\n",
    "\n",
    "Details: this code generates mip and stitches them to visualize the tracks\n",
    "\n",
    "Created: May 02, 2023\n",
    "\n",
    "License: GNU GPL v3.0"
   ]
  },
  {
   "cell_type": "code",
   "execution_count": null,
   "metadata": {},
   "outputs": [],
   "source": [
    "import os\n",
    "import numpy as np\n",
    "import pandas as pd\n",
    "import matplotlib.pyplot as plt"
   ]
  },
  {
   "cell_type": "code",
   "execution_count": null,
   "metadata": {},
   "outputs": [],
   "source": [
    "# from scipy import ndimage as ndi\n",
    "# import pickle\n",
    "import skimage\n",
    "# from PIL import Image, TiffTags\n",
    "import tifffile as tiff\n",
    "from scipy.spatial import distance\n",
    "from natsort import natsorted"
   ]
  },
  {
   "cell_type": "code",
   "execution_count": null,
   "metadata": {},
   "outputs": [],
   "source": [
    "from tqdm import tqdm\n",
    "import plotly.express as px\n",
    "import plotly.graph_objects as go\n",
    "# import dask"
   ]
  },
  {
   "cell_type": "code",
   "execution_count": null,
   "metadata": {},
   "outputs": [],
   "source": [
    "#ask the user for the inputs\n",
    "\n",
    "main_dir = input('Enter the Parent directory where ALL the image stacks are stored: ')"
   ]
  }
 ],
 "metadata": {
  "language_info": {
   "name": "python"
  },
  "orig_nbformat": 4
 },
 "nbformat": 4,
 "nbformat_minor": 2
}
