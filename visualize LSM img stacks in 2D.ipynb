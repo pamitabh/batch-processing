{
 "cells": [
  {
   "attachments": {},
   "cell_type": "markdown",
   "metadata": {},
   "source": [
    "Author(s): Piyush Amitabh\n",
    "\n",
    "Details: this code generates mip and stitches them to visualize the tracks\n",
    "\n",
    "Created: May 02, 2023\n",
    "\n",
    "License: GNU GPL v3.0"
   ]
  },
  {
   "attachments": {},
   "cell_type": "markdown",
   "metadata": {},
   "source": [
    "Comment: it is scope agnostic (KLA/WIL LSM) and os agnostic"
   ]
  },
  {
   "cell_type": "code",
   "execution_count": 2,
   "metadata": {},
   "outputs": [],
   "source": [
    "import os\n",
    "import numpy as np\n",
    "import pandas as pd\n",
    "import matplotlib.pyplot as plt"
   ]
  },
  {
   "cell_type": "code",
   "execution_count": 3,
   "metadata": {},
   "outputs": [],
   "source": [
    "# from scipy import ndimage as ndi\n",
    "# import pickle\n",
    "import skimage\n",
    "from PIL import Image\n",
    "import tifffile as tiff\n",
    "from natsort import natsorted"
   ]
  },
  {
   "cell_type": "code",
   "execution_count": 4,
   "metadata": {},
   "outputs": [],
   "source": [
    "# from tqdm import tqdm\n",
    "# import plotly.express as px\n",
    "# import plotly.graph_objects as go\n",
    "# import dask"
   ]
  },
  {
   "cell_type": "code",
   "execution_count": 5,
   "metadata": {},
   "outputs": [
    {
     "name": "stdout",
     "output_type": "stream",
     "text": [
      "Warning: This code ONLY works with single channel z-stack tiff images. It will give unpredictable results with multiple channels.\n",
      "Warning: This code assumes the image name has channel name and position/region name for stiching\n"
     ]
    }
   ],
   "source": [
    "#ask the user for the inputs\n",
    "\n",
    "print('Warning: This code ONLY works with single channel z-stack tiff images. It will give unpredictable results with multiple channels.')\n",
    "print('Warning: This code assumes the image name has channel name and position/region name for stiching')\n",
    "main_dir = input('Enter the Parent directory where ALL the image stacks are stored: ')"
   ]
  },
  {
   "cell_type": "code",
   "execution_count": 6,
   "metadata": {},
   "outputs": [],
   "source": [
    "global findscope_flag\n",
    "findscope_flag = 0\n",
    "\n",
    "def find_lsm_scope(img_h, img_w):\n",
    "    '''Finds LSM Scope and downscaling factor automatically using image height and width.\n",
    "    Returns: \n",
    "    ds_factor_h = downscaling factor in height, \n",
    "    ds_factor_w = downscaling factor in width'''\n",
    "\n",
    "    if img_w==img_h: # probably KLA LSM\n",
    "        findscope_flag = 1\n",
    "\n",
    "        ds_factor_h = 2048//img_h\n",
    "        ds_factor_w = 2048//img_w\n",
    "        r = 2048%img_h\n",
    "\n",
    "        if r>0: #implying downscaling factor is in fraction\n",
    "            findscope_flag = 0\n",
    "            print(\"Downscaling factor in fraction. Can't process automatically.\")\n",
    "\n",
    "    elif img_w>img_h: # probably WIL LSM\n",
    "        findscope_flag = 2\n",
    "\n",
    "        ds_factor_h = 2160//img_h\n",
    "        ds_factor_w = 2560//img_w\n",
    "\n",
    "        if ds_factor_h!=ds_factor_w:\n",
    "            findscope_flag=0\n",
    "\n",
    "        r_h = 2160%img_h\n",
    "        r_w = 2560%img_w\n",
    "        \n",
    "        if r_h>0 or r_w>0 : #implying downscaling factor is in fraction\n",
    "            findscope_flag = 0\n",
    "            print(\"Downscaling factor in fraction. Can't process automatically.\")\n",
    "\n",
    "    if findscope_flag==1:\n",
    "        print('LSM Scope used: KLA')\n",
    "        print(f'Downscaling factor = {ds_factor_w}')\n",
    "    elif findscope_flag==2:\n",
    "        print('LSM Scope used: WIL')\n",
    "        print(f'Downscaling factor = {ds_factor_w}')\n",
    "\n",
    "    user_check = input('Is the above information correct?(y/n): ')\n",
    "    if user_check.casefold()=='n':\n",
    "        findscope_flag = 0\n",
    "\n",
    "    if findscope_flag==0: #couldn't find scope, enter manually\n",
    "        print(\"ERROR: Failed to determine LSM scope automatically.\\nEnter manually\")\n",
    "        findscope_flag = int(input('Enter the scope used:\\n1 - KLA LSM Scope\\n2 - WIL LSM Scope\\nInput (1/2): '))\n",
    "        if findscope_flag==1 or findscope_flag==2:\n",
    "            ds_factor_h = int(input('Enter the downscaling factor in height: '))\n",
    "            ds_factor_w = int(input('Enter the downscaling factor in width: '))\n",
    "        else:\n",
    "            print(\"Fatal Error: Exiting\")\n",
    "            exit()\n",
    "\n",
    "    return(ds_factor_h, ds_factor_w)"
   ]
  },
  {
   "cell_type": "code",
   "execution_count": 8,
   "metadata": {},
   "outputs": [
    {
     "name": "stdout",
     "output_type": "stream",
     "text": [
      "Reading Image: /mnt/HDD/Demeter/Piyush_hedonismBot/time lapse_conv_downsampled/time lapse_10_05_22_night/Fish2/GFP/Timepoint20_Pos3_GFP_ds.ome.tif\n",
      "LSM Scope used: KLA\n",
      "Downscaling factor = 4\n",
      "Fatal Error: Exiting\n",
      "Reading Image: /mnt/HDD/Demeter/Piyush_hedonismBot/time lapse_conv_downsampled/time lapse_10_05_22_night/Fish2/GFP/Timepoint76_Pos1_GFP_ds.ome.tif\n",
      "LSM Scope used: KLA\n",
      "Downscaling factor = 4\n",
      "ERROR: Can't determine LSM scope automatically.\n",
      "Enter manually\n"
     ]
    },
    {
     "ename": "ValueError",
     "evalue": "invalid literal for int() with base 10: ''",
     "output_type": "error",
     "traceback": [
      "\u001b[0;31m---------------------------------------------------------------------------\u001b[0m",
      "\u001b[0;31mValueError\u001b[0m                                Traceback (most recent call last)",
      "Cell \u001b[0;32mIn[8], line 24\u001b[0m\n\u001b[1;32m     22\u001b[0m \u001b[39melif\u001b[39;00m \u001b[39mlen\u001b[39m(read_image\u001b[39m.\u001b[39mshape)\u001b[39m!=\u001b[39m\u001b[39m2\u001b[39m: \u001b[39m#image stacks, create MIP\u001b[39;00m\n\u001b[1;32m     23\u001b[0m     \u001b[39mif\u001b[39;00m findscope_flag\u001b[39m==\u001b[39m\u001b[39m0\u001b[39m: \u001b[39m#skimage coords is (plane, row, col)\u001b[39;00m\n\u001b[0;32m---> 24\u001b[0m         ds_h, ds_w \u001b[39m=\u001b[39m find_lsm_scope(img_h \u001b[39m=\u001b[39;49m read_image\u001b[39m.\u001b[39;49mshape[\u001b[39m1\u001b[39;49m], img_w \u001b[39m=\u001b[39;49m read_image\u001b[39m.\u001b[39;49mshape[\u001b[39m2\u001b[39;49m])\n\u001b[1;32m     26\u001b[0m     exit()\n\u001b[1;32m     27\u001b[0m     \u001b[39m#generate max intensity zproject from stack_full\u001b[39;00m\n",
      "Cell \u001b[0;32mIn[6], line 53\u001b[0m, in \u001b[0;36mfind_lsm_scope\u001b[0;34m(img_h, img_w)\u001b[0m\n\u001b[1;32m     51\u001b[0m \u001b[39mif\u001b[39;00m findscope_flag\u001b[39m==\u001b[39m\u001b[39m0\u001b[39m: \u001b[39m#couldn't find scope, enter manually\u001b[39;00m\n\u001b[1;32m     52\u001b[0m     \u001b[39mprint\u001b[39m(\u001b[39m\"\u001b[39m\u001b[39mERROR: Can\u001b[39m\u001b[39m'\u001b[39m\u001b[39mt determine LSM scope automatically.\u001b[39m\u001b[39m\\n\u001b[39;00m\u001b[39mEnter manually\u001b[39m\u001b[39m\"\u001b[39m)\n\u001b[0;32m---> 53\u001b[0m     findscope_flag \u001b[39m=\u001b[39m \u001b[39mint\u001b[39;49m(\u001b[39minput\u001b[39;49m(\u001b[39m'\u001b[39;49m\u001b[39mEnter the scope used:\u001b[39;49m\u001b[39m\\n\u001b[39;49;00m\u001b[39m1 - KLA LSM Scope\u001b[39;49m\u001b[39m\\n\u001b[39;49;00m\u001b[39m2 - WIL LSM Scope\u001b[39;49m\u001b[39m\\n\u001b[39;49;00m\u001b[39mInput (1/2): \u001b[39;49m\u001b[39m'\u001b[39;49m))\n\u001b[1;32m     54\u001b[0m     \u001b[39mif\u001b[39;00m findscope_flag\u001b[39m==\u001b[39m\u001b[39m1\u001b[39m \u001b[39mor\u001b[39;00m findscope_flag\u001b[39m==\u001b[39m\u001b[39m2\u001b[39m:\n\u001b[1;32m     55\u001b[0m         ds_factor_h \u001b[39m=\u001b[39m \u001b[39mint\u001b[39m(\u001b[39minput\u001b[39m(\u001b[39m'\u001b[39m\u001b[39mEnter the downscaling factor in height: \u001b[39m\u001b[39m'\u001b[39m))\n",
      "\u001b[0;31mValueError\u001b[0m: invalid literal for int() with base 10: ''"
     ]
    },
    {
     "ename": "",
     "evalue": "",
     "output_type": "error",
     "traceback": [
      "\u001b[1;31mThe Kernel crashed while executing code in the the current cell or a previous cell. Please review the code in the cell(s) to identify a possible cause of the failure. Click <a href='https://aka.ms/vscodeJupyterKernelCrash'>here</a> for more info. View Jupyter <a href='command:jupyter.viewOutput'>log</a> for further details."
     ]
    }
   ],
   "source": [
    "channel_names = ['GFP', 'RFP']\n",
    "\n",
    "for root, subfolders, filenames in os.walk(main_dir):\n",
    "    for filename in filenames:\n",
    "        # print(f'Reading: {filename}')\n",
    "        \n",
    "        filepath = os.path.join(root, filename)\n",
    "        # print(f'Reading: {filepath}')\n",
    "\n",
    "        filename_list = filename.split('.')\n",
    "        og_name = filename_list[0] #first of list=name\n",
    "        ext = filename_list[-1] #last of list=extension\n",
    "\n",
    "        if ext==\"tif\" or ext==\"tiff\": #tiff files\n",
    "            print(f'Reading Image: {filepath}')\n",
    "            read_image = tiff.imread(filepath)\n",
    "            \n",
    "            if len(read_image.shape)==2: #single images, assume BF\n",
    "                if findscope_flag==0: #skimage coords is (row, col)\n",
    "                    ds_h, ds_w = find_lsm_scope(img_h = read_image.shape[0], img_w = read_image.shape[1])\n",
    "\n",
    "            elif len(read_image.shape)!=2: #image stacks, create MIP\n",
    "                if findscope_flag==0: #skimage coords is (plane, row, col)\n",
    "                    ds_h, ds_w = find_lsm_scope(img_h = read_image.shape[1], img_w = read_image.shape[2])\n",
    "\n",
    "                exit()\n",
    "                #generate max intensity zproject from stack_full\n",
    "                arr_mip = np.max(read_image, axis=0)\n",
    "\n",
    "            for ch_name in channel_names:\n",
    "                if ch_name.casefold() in og_name.casefold():\n",
    "                    dest = os.path.join(root, ch_name.casefold()+'_mip')\n",
    "                    if not os.path.exists(dest): #check if the dest exists\n",
    "                        print(\"Write path doesn't exist.\")\n",
    "                        os.makedirs(dest)\n",
    "                        print(f\"Directory '{ch_name.casefold()}'_mip created\")\n",
    "                # os.chdir(dest)\n",
    "                img_mip = Image.fromarray(arr_mip)\n",
    "                img_mip.save(os.path.join(dest, og_name+'_mip.tif'))\n",
    "                "
   ]
  },
  {
   "cell_type": "code",
   "execution_count": 7,
   "metadata": {},
   "outputs": [
    {
     "ename": "NameError",
     "evalue": "name 'read_image' is not defined",
     "output_type": "error",
     "traceback": [
      "\u001b[0;31m---------------------------------------------------------------------------\u001b[0m",
      "\u001b[0;31mNameError\u001b[0m                                 Traceback (most recent call last)",
      "Cell \u001b[0;32mIn[7], line 1\u001b[0m\n\u001b[0;32m----> 1\u001b[0m read_image\u001b[39m.\u001b[39mshape\n",
      "\u001b[0;31mNameError\u001b[0m: name 'read_image' is not defined"
     ]
    }
   ],
   "source": [
    "read_image.shape"
   ]
  },
  {
   "cell_type": "code",
   "execution_count": 8,
   "metadata": {},
   "outputs": [
    {
     "name": "stdout",
     "output_type": "stream",
     "text": [
      "LSM Scope used: KLA\n",
      "Downscaling factor = 4\n",
      "Fatal Error: Exiting\n"
     ]
    },
    {
     "ename": "",
     "evalue": "",
     "output_type": "error",
     "traceback": [
      "\u001b[1;31mThe Kernel crashed while executing code in the the current cell or a previous cell. Please review the code in the cell(s) to identify a possible cause of the failure. Click <a href='https://aka.ms/vscodeJupyterKernelCrash'>here</a> for more info. View Jupyter <a href='command:jupyter.viewOutput'>log</a> for further details."
     ]
    }
   ],
   "source": [
    "if findscope_flag==0:\n",
    "    ds_h, ds_w = find_lsm_scope(img_h = read_image.shape[1], img_w = read_image.shape[2])"
   ]
  },
  {
   "cell_type": "code",
   "execution_count": null,
   "metadata": {},
   "outputs": [],
   "source": [
    "# %% [markdown]\n",
    "# The pixel spacing in our LSM image is 1µm in the z axis, and  0.1625µm in the x and y axes.\n",
    "\n",
    "# %%\n",
    "zd, xd, yd = 1, 0.1625, 0.1625 #zeroth dimension is z\n",
    "orig_spacing = np.array([zd, xd, yd]) #change to the actual pixel spacing from the microscope\n",
    "new_spacing = np.array([zd, xd*ds_h, yd*ds_w]) #downscale x&y by n"
   ]
  }
 ],
 "metadata": {
  "kernelspec": {
   "display_name": "image_analysis",
   "language": "python",
   "name": "python3"
  },
  "language_info": {
   "codemirror_mode": {
    "name": "ipython",
    "version": 3
   },
   "file_extension": ".py",
   "mimetype": "text/x-python",
   "name": "python",
   "nbconvert_exporter": "python",
   "pygments_lexer": "ipython3",
   "version": "3.11.0"
  },
  "orig_nbformat": 4
 },
 "nbformat": 4,
 "nbformat_minor": 2
}
