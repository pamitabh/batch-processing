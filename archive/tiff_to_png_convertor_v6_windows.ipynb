{
 "cells": [
  {
   "cell_type": "markdown",
   "metadata": {},
   "source": [
    "Author(s): Piyush Amitabh\n",
    "\n",
    "Details: this code converts tiff images to png compressed images, while preserving the folder structure. \n",
    "Created: July 15, 2022\n",
    "\n",
    "License: GNU GPL v3.0"
   ]
  },
  {
   "cell_type": "markdown",
   "metadata": {},
   "source": [
    "[Oct26, 22] changed to work with image stacks"
   ]
  },
  {
   "cell_type": "markdown",
   "metadata": {},
   "source": [
    "[Oct27, 22] add metadata reading and writing functionality"
   ]
  },
  {
   "cell_type": "markdown",
   "metadata": {},
   "source": [
    "[Oct31, 22] by default metadata isn't copies to pngs as imagej can't read it. automated naming scheme based on image axes."
   ]
  },
  {
   "cell_type": "code",
   "execution_count": 1,
   "metadata": {},
   "outputs": [],
   "source": [
    "import numpy as np\n",
    "# from tqdm import tqdm\n",
    "import xarray as xr\n",
    "import os\n",
    "import tifffile as tiff\n",
    "from skimage import io\n",
    "import matplotlib.pyplot as plt"
   ]
  },
  {
   "cell_type": "code",
   "execution_count": 2,
   "metadata": {},
   "outputs": [],
   "source": [
    "import shutil\n",
    "from datetime import datetime"
   ]
  },
  {
   "cell_type": "code",
   "execution_count": 3,
   "metadata": {},
   "outputs": [],
   "source": [
    "from PIL import Image\n",
    "from PIL.PngImagePlugin import PngInfo"
   ]
  },
  {
   "cell_type": "markdown",
   "metadata": {},
   "source": [
    "# Batchprocess"
   ]
  },
  {
   "cell_type": "code",
   "execution_count": 4,
   "metadata": {},
   "outputs": [],
   "source": [
    "now = datetime.now()\n",
    "\n",
    "dt_string = now.strftime(\"%m%d%Y_%H%M%S\")"
   ]
  },
  {
   "cell_type": "code",
   "execution_count": 5,
   "metadata": {},
   "outputs": [
    {
     "name": "stdout",
     "output_type": "stream",
     "text": [
      "Images will be compressed and copied to:\n",
      "/home/piyush/Downloads/DATA/test/f1B_png_10312022_152259/\n"
     ]
    }
   ],
   "source": [
    "source_path = input('Enter *Source* directory:\\n')\n",
    "source_path = source_path+'\\\\' if source_path[-1] != '\\\\' else source_path #standardize path names\n",
    "source_dir = source_path.split('\\\\')[-2]\n",
    "dest_dir = input('Enter *Destination* directory:\\n')\n",
    "dest_dir = dest_dir+'\\\\' if dest_dir[-1] != '\\\\' else dest_dir #standardize path names\n",
    "\n",
    "default_name = source_dir+'_png_'+dt_string\n",
    "dest_name = input('Enter Copied folder name (none for default):\\n') or default_name\n",
    "dest_path = dest_dir + dest_name + '\\\\'\n",
    "print(f'Images will be compressed and copied to:\\n{dest_path}')"
   ]
  },
  {
   "cell_type": "code",
   "execution_count": 6,
   "metadata": {},
   "outputs": [
    {
     "name": "stdout",
     "output_type": "stream",
     "text": [
      "Directory structure and all non-image files successfully copied from \n",
      "source:/home/piyush/Downloads/DATA/compression test/f1B/ to \n",
      "destination:/home/piyush/Downloads/DATA/test/f1B_png_10312022_152259/\n"
     ]
    }
   ],
   "source": [
    "#copy all files except the tiff image files\n",
    "shutil.copytree(source_path,\n",
    "                dest_path,\n",
    "                ignore=shutil.ignore_patterns('*.tiff', 'tmp*', '*.tif'))\n",
    "\n",
    "print(f'Directory structure and all non-image files successfully copied from \\nsource:{source_path} to \\ndestination:{dest_path}')"
   ]
  },
  {
   "cell_type": "code",
   "execution_count": 7,
   "metadata": {},
   "outputs": [],
   "source": [
    "def get_tiff_metadata(tif_img_loc):\n",
    "    with tiff.TiffFile(tif_img_loc) as tif_img:\n",
    "        for page in tif_img.pages:\n",
    "            for tag in page.tags:\n",
    "                tag_name, tag_value = tag.name, tag.value\n",
    "    # str_axes = tif_img.series[0].axes #get axes order\n",
    "    return(tag_value) #only return the tag_value as tag_name is just the source of creation (e.g. 'MicroManagerMetadata')"
   ]
  },
  {
   "cell_type": "code",
   "execution_count": 8,
   "metadata": {},
   "outputs": [],
   "source": [
    "def copy_metadata(tag_value, png_img):\n",
    "    targetImage = Image.open(png_img)\n",
    "\n",
    "    metadata = PngInfo()\n",
    "\n",
    "    for i, j in tag_value.items():\n",
    "        metadata.add_text(str(i), str(j))\n",
    "\n",
    "    targetImage.save(png_img, pnginfo=metadata)\n",
    "    # targetImage = Image.open(\"\\\\home\\\\piyush\\\\Downloads\\\\DATA\\\\test\\\\\"+og_name+\"_wm.png\")\n",
    "\n",
    "    # print(targetImage.text)"
   ]
  },
  {
   "cell_type": "code",
   "execution_count": 11,
   "metadata": {},
   "outputs": [],
   "source": [
    "def single_img_selector(read_image, filepath, c_i, t_i, z_i):\n",
    "    '''This image selector can select one image from a max. stack of channel, time and z'''\n",
    "    with tiff.TiffFile(filepath) as multi_tif:\n",
    "        str_axes = multi_tif.series[0].axes.casefold() #get axes order\n",
    "\n",
    "    read_image_xarr = xr.DataArray(data=read_image, dims=list(str_axes))\n",
    "\n",
    "    if ('c' in str_axes) and ('t' in str_axes) and ('z' in str_axes): #stack has c, t, and z\n",
    "        single_img = read_image_xarr.isel(c=c_i, t=t_i, z=z_i)\n",
    "    elif 'c' in str_axes: #c and z\n",
    "        single_img = read_image_xarr.isel(c=c_i, z=z_i)\n",
    "    elif 'c' in str_axes: #t and z\n",
    "        single_img = read_image_xarr.isel(t=t_i, z=z_i)\n",
    "    elif 'c' in str_axes: #c and t\n",
    "        single_img = read_image_xarr.isel(c=c_i, t=t_i)\n",
    "    elif 'z' in str_axes: #only z\n",
    "        single_img = read_image_xarr.isel(z=z_i)\n",
    "    elif 'c' in str_axes: #only c\n",
    "        single_img = read_image_xarr.isel(c=c_i)\n",
    "    elif 't' in str_axes: #only t\n",
    "        single_img = read_image_xarr.isel(t=t_i)\n",
    "    else:\n",
    "        return None\n",
    "\n",
    "    return single_img"
   ]
  },
  {
   "cell_type": "code",
   "execution_count": 32,
   "metadata": {},
   "outputs": [
    {
     "name": "stdout",
     "output_type": "stream",
     "text": [
      "Reading Image: /home/piyush/Downloads/DATA/compression test/f1B/BF/BF_MMStack_Pos0.ome.tif\n",
      "Reading Image: /home/piyush/Downloads/DATA/compression test/f1B/zstack1_1/zstack1_1_MMStack_Pos0.ome.tif\n",
      "Saved: zstack1_1_MMStack_Pos0_channel000_position000_time000_z000.png\n",
      "Saved: zstack1_1_MMStack_Pos0_channel000_position000_time000_z001.png\n",
      "Saved: zstack1_1_MMStack_Pos0_channel000_position000_time000_z002.png\n",
      "Saved: zstack1_1_MMStack_Pos0_channel000_position000_time000_z003.png\n",
      "Saved: zstack1_1_MMStack_Pos0_channel000_position000_time000_z004.png\n",
      "Saved: zstack1_1_MMStack_Pos0_channel000_position000_time000_z005.png\n",
      "Saved: zstack1_1_MMStack_Pos0_channel000_position000_time000_z006.png\n",
      "Saved: zstack1_1_MMStack_Pos0_channel000_position000_time000_z007.png\n",
      "Saved: zstack1_1_MMStack_Pos0_channel000_position000_time000_z008.png\n",
      "Saved: zstack1_1_MMStack_Pos0_channel000_position000_time000_z009.png\n",
      "Saved: zstack1_1_MMStack_Pos0_channel000_position000_time000_z010.png\n",
      "Saved: zstack1_1_MMStack_Pos0_channel000_position000_time000_z011.png\n",
      "Saved: zstack1_1_MMStack_Pos0_channel000_position000_time000_z012.png\n",
      "Saved: zstack1_1_MMStack_Pos0_channel000_position000_time000_z013.png\n",
      "Saved: zstack1_1_MMStack_Pos0_channel000_position000_time000_z014.png\n",
      "Saved: zstack1_1_MMStack_Pos0_channel000_position000_time000_z015.png\n",
      "Saved: zstack1_1_MMStack_Pos0_channel000_position000_time000_z016.png\n",
      "Saved: zstack1_1_MMStack_Pos0_channel000_position000_time000_z017.png\n",
      "Saved: zstack1_1_MMStack_Pos0_channel000_position000_time000_z018.png\n",
      "Saved: zstack1_1_MMStack_Pos0_channel000_position000_time000_z019.png\n",
      "Saved: zstack1_1_MMStack_Pos0_channel000_position000_time000_z020.png\n",
      "Saved: zstack1_1_MMStack_Pos0_channel000_position000_time000_z021.png\n",
      "Saved: zstack1_1_MMStack_Pos0_channel000_position000_time000_z022.png\n",
      "Saved: zstack1_1_MMStack_Pos0_channel000_position000_time000_z023.png\n",
      "Saved: zstack1_1_MMStack_Pos0_channel000_position000_time000_z024.png\n",
      "Saved: zstack1_1_MMStack_Pos0_channel000_position000_time000_z025.png\n",
      "Saved: zstack1_1_MMStack_Pos0_channel000_position000_time000_z026.png\n",
      "Saved: zstack1_1_MMStack_Pos0_channel000_position000_time000_z027.png\n",
      "Saved: zstack1_1_MMStack_Pos0_channel000_position000_time000_z028.png\n",
      "Saved: zstack1_1_MMStack_Pos0_channel000_position000_time000_z029.png\n",
      "Saved: zstack1_1_MMStack_Pos0_channel000_position000_time000_z030.png\n",
      "Saved: zstack1_1_MMStack_Pos0_channel000_position000_time000_z031.png\n",
      "Saved: zstack1_1_MMStack_Pos0_channel000_position000_time000_z032.png\n",
      "Saved: zstack1_1_MMStack_Pos0_channel000_position000_time000_z033.png\n",
      "Saved: zstack1_1_MMStack_Pos0_channel000_position000_time000_z034.png\n",
      "Saved: zstack1_1_MMStack_Pos0_channel000_position000_time000_z035.png\n",
      "Saved: zstack1_1_MMStack_Pos0_channel000_position000_time000_z036.png\n",
      "Saved: zstack1_1_MMStack_Pos0_channel000_position000_time000_z037.png\n",
      "Saved: zstack1_1_MMStack_Pos0_channel000_position000_time000_z038.png\n",
      "Saved: zstack1_1_MMStack_Pos0_channel001_position000_time000_z000.png\n",
      "Saved: zstack1_1_MMStack_Pos0_channel001_position000_time000_z001.png\n",
      "Saved: zstack1_1_MMStack_Pos0_channel001_position000_time000_z002.png\n",
      "Saved: zstack1_1_MMStack_Pos0_channel001_position000_time000_z003.png\n",
      "Saved: zstack1_1_MMStack_Pos0_channel001_position000_time000_z004.png\n",
      "Saved: zstack1_1_MMStack_Pos0_channel001_position000_time000_z005.png\n",
      "Saved: zstack1_1_MMStack_Pos0_channel001_position000_time000_z006.png\n",
      "Saved: zstack1_1_MMStack_Pos0_channel001_position000_time000_z007.png\n",
      "Saved: zstack1_1_MMStack_Pos0_channel001_position000_time000_z008.png\n",
      "Saved: zstack1_1_MMStack_Pos0_channel001_position000_time000_z009.png\n",
      "Saved: zstack1_1_MMStack_Pos0_channel001_position000_time000_z010.png\n",
      "Saved: zstack1_1_MMStack_Pos0_channel001_position000_time000_z011.png\n",
      "Saved: zstack1_1_MMStack_Pos0_channel001_position000_time000_z012.png\n",
      "Saved: zstack1_1_MMStack_Pos0_channel001_position000_time000_z013.png\n",
      "Saved: zstack1_1_MMStack_Pos0_channel001_position000_time000_z014.png\n",
      "Saved: zstack1_1_MMStack_Pos0_channel001_position000_time000_z015.png\n",
      "Saved: zstack1_1_MMStack_Pos0_channel001_position000_time000_z016.png\n",
      "Saved: zstack1_1_MMStack_Pos0_channel001_position000_time000_z017.png\n",
      "Saved: zstack1_1_MMStack_Pos0_channel001_position000_time000_z018.png\n",
      "Saved: zstack1_1_MMStack_Pos0_channel001_position000_time000_z019.png\n",
      "Saved: zstack1_1_MMStack_Pos0_channel001_position000_time000_z020.png\n",
      "Saved: zstack1_1_MMStack_Pos0_channel001_position000_time000_z021.png\n",
      "Saved: zstack1_1_MMStack_Pos0_channel001_position000_time000_z022.png\n",
      "Saved: zstack1_1_MMStack_Pos0_channel001_position000_time000_z023.png\n",
      "Saved: zstack1_1_MMStack_Pos0_channel001_position000_time000_z024.png\n",
      "Saved: zstack1_1_MMStack_Pos0_channel001_position000_time000_z025.png\n",
      "Saved: zstack1_1_MMStack_Pos0_channel001_position000_time000_z026.png\n",
      "Saved: zstack1_1_MMStack_Pos0_channel001_position000_time000_z027.png\n",
      "Saved: zstack1_1_MMStack_Pos0_channel001_position000_time000_z028.png\n",
      "Saved: zstack1_1_MMStack_Pos0_channel001_position000_time000_z029.png\n",
      "Saved: zstack1_1_MMStack_Pos0_channel001_position000_time000_z030.png\n",
      "Saved: zstack1_1_MMStack_Pos0_channel001_position000_time000_z031.png\n",
      "Saved: zstack1_1_MMStack_Pos0_channel001_position000_time000_z032.png\n",
      "Saved: zstack1_1_MMStack_Pos0_channel001_position000_time000_z033.png\n",
      "Saved: zstack1_1_MMStack_Pos0_channel001_position000_time000_z034.png\n",
      "Saved: zstack1_1_MMStack_Pos0_channel001_position000_time000_z035.png\n",
      "Saved: zstack1_1_MMStack_Pos0_channel001_position000_time000_z036.png\n",
      "Saved: zstack1_1_MMStack_Pos0_channel001_position000_time000_z037.png\n",
      "Saved: zstack1_1_MMStack_Pos0_channel001_position000_time000_z038.png\n",
      "Saved: zstack1_1_MMStack_Pos0_channel002_position000_time000_z000.png\n",
      "Saved: zstack1_1_MMStack_Pos0_channel002_position000_time000_z001.png\n",
      "Saved: zstack1_1_MMStack_Pos0_channel002_position000_time000_z002.png\n",
      "Saved: zstack1_1_MMStack_Pos0_channel002_position000_time000_z003.png\n",
      "Saved: zstack1_1_MMStack_Pos0_channel002_position000_time000_z004.png\n",
      "Saved: zstack1_1_MMStack_Pos0_channel002_position000_time000_z005.png\n",
      "Saved: zstack1_1_MMStack_Pos0_channel002_position000_time000_z006.png\n",
      "Saved: zstack1_1_MMStack_Pos0_channel002_position000_time000_z007.png\n",
      "Saved: zstack1_1_MMStack_Pos0_channel002_position000_time000_z008.png\n",
      "Saved: zstack1_1_MMStack_Pos0_channel002_position000_time000_z009.png\n",
      "Saved: zstack1_1_MMStack_Pos0_channel002_position000_time000_z010.png\n",
      "Saved: zstack1_1_MMStack_Pos0_channel002_position000_time000_z011.png\n",
      "Saved: zstack1_1_MMStack_Pos0_channel002_position000_time000_z012.png\n",
      "Saved: zstack1_1_MMStack_Pos0_channel002_position000_time000_z013.png\n",
      "Saved: zstack1_1_MMStack_Pos0_channel002_position000_time000_z014.png\n",
      "Saved: zstack1_1_MMStack_Pos0_channel002_position000_time000_z015.png\n",
      "Saved: zstack1_1_MMStack_Pos0_channel002_position000_time000_z016.png\n",
      "Saved: zstack1_1_MMStack_Pos0_channel002_position000_time000_z017.png\n",
      "Saved: zstack1_1_MMStack_Pos0_channel002_position000_time000_z018.png\n",
      "Saved: zstack1_1_MMStack_Pos0_channel002_position000_time000_z019.png\n",
      "Saved: zstack1_1_MMStack_Pos0_channel002_position000_time000_z020.png\n",
      "Saved: zstack1_1_MMStack_Pos0_channel002_position000_time000_z021.png\n",
      "Saved: zstack1_1_MMStack_Pos0_channel002_position000_time000_z022.png\n",
      "Saved: zstack1_1_MMStack_Pos0_channel002_position000_time000_z023.png\n",
      "Saved: zstack1_1_MMStack_Pos0_channel002_position000_time000_z024.png\n",
      "Saved: zstack1_1_MMStack_Pos0_channel002_position000_time000_z025.png\n",
      "Saved: zstack1_1_MMStack_Pos0_channel002_position000_time000_z026.png\n",
      "Saved: zstack1_1_MMStack_Pos0_channel002_position000_time000_z027.png\n",
      "Saved: zstack1_1_MMStack_Pos0_channel002_position000_time000_z028.png\n",
      "Saved: zstack1_1_MMStack_Pos0_channel002_position000_time000_z029.png\n",
      "Saved: zstack1_1_MMStack_Pos0_channel002_position000_time000_z030.png\n",
      "Saved: zstack1_1_MMStack_Pos0_channel002_position000_time000_z031.png\n",
      "Saved: zstack1_1_MMStack_Pos0_channel002_position000_time000_z032.png\n",
      "Saved: zstack1_1_MMStack_Pos0_channel002_position000_time000_z033.png\n",
      "Saved: zstack1_1_MMStack_Pos0_channel002_position000_time000_z034.png\n",
      "Saved: zstack1_1_MMStack_Pos0_channel002_position000_time000_z035.png\n",
      "Saved: zstack1_1_MMStack_Pos0_channel002_position000_time000_z036.png\n",
      "Saved: zstack1_1_MMStack_Pos0_channel002_position000_time000_z037.png\n",
      "Saved: zstack1_1_MMStack_Pos0_channel002_position000_time000_z038.png\n",
      "Saved: zstack1_1_MMStack_Pos0_channel003_position000_time000_z000.png\n",
      "Saved: zstack1_1_MMStack_Pos0_channel003_position000_time000_z001.png\n",
      "Saved: zstack1_1_MMStack_Pos0_channel003_position000_time000_z002.png\n",
      "Saved: zstack1_1_MMStack_Pos0_channel003_position000_time000_z003.png\n",
      "Saved: zstack1_1_MMStack_Pos0_channel003_position000_time000_z004.png\n",
      "Saved: zstack1_1_MMStack_Pos0_channel003_position000_time000_z005.png\n",
      "Saved: zstack1_1_MMStack_Pos0_channel003_position000_time000_z006.png\n",
      "Saved: zstack1_1_MMStack_Pos0_channel003_position000_time000_z007.png\n",
      "Saved: zstack1_1_MMStack_Pos0_channel003_position000_time000_z008.png\n",
      "Saved: zstack1_1_MMStack_Pos0_channel003_position000_time000_z009.png\n",
      "Saved: zstack1_1_MMStack_Pos0_channel003_position000_time000_z010.png\n",
      "Saved: zstack1_1_MMStack_Pos0_channel003_position000_time000_z011.png\n",
      "Saved: zstack1_1_MMStack_Pos0_channel003_position000_time000_z012.png\n",
      "Saved: zstack1_1_MMStack_Pos0_channel003_position000_time000_z013.png\n",
      "Saved: zstack1_1_MMStack_Pos0_channel003_position000_time000_z014.png\n",
      "Saved: zstack1_1_MMStack_Pos0_channel003_position000_time000_z015.png\n",
      "Saved: zstack1_1_MMStack_Pos0_channel003_position000_time000_z016.png\n",
      "Saved: zstack1_1_MMStack_Pos0_channel003_position000_time000_z017.png\n",
      "Saved: zstack1_1_MMStack_Pos0_channel003_position000_time000_z018.png\n",
      "Saved: zstack1_1_MMStack_Pos0_channel003_position000_time000_z019.png\n",
      "Saved: zstack1_1_MMStack_Pos0_channel003_position000_time000_z020.png\n",
      "Saved: zstack1_1_MMStack_Pos0_channel003_position000_time000_z021.png\n",
      "Saved: zstack1_1_MMStack_Pos0_channel003_position000_time000_z022.png\n",
      "Saved: zstack1_1_MMStack_Pos0_channel003_position000_time000_z023.png\n",
      "Saved: zstack1_1_MMStack_Pos0_channel003_position000_time000_z024.png\n",
      "Saved: zstack1_1_MMStack_Pos0_channel003_position000_time000_z025.png\n",
      "Saved: zstack1_1_MMStack_Pos0_channel003_position000_time000_z026.png\n",
      "Saved: zstack1_1_MMStack_Pos0_channel003_position000_time000_z027.png\n",
      "Saved: zstack1_1_MMStack_Pos0_channel003_position000_time000_z028.png\n",
      "Saved: zstack1_1_MMStack_Pos0_channel003_position000_time000_z029.png\n",
      "Saved: zstack1_1_MMStack_Pos0_channel003_position000_time000_z030.png\n",
      "Saved: zstack1_1_MMStack_Pos0_channel003_position000_time000_z031.png\n",
      "Saved: zstack1_1_MMStack_Pos0_channel003_position000_time000_z032.png\n",
      "Saved: zstack1_1_MMStack_Pos0_channel003_position000_time000_z033.png\n",
      "Saved: zstack1_1_MMStack_Pos0_channel003_position000_time000_z034.png\n",
      "Saved: zstack1_1_MMStack_Pos0_channel003_position000_time000_z035.png\n",
      "Saved: zstack1_1_MMStack_Pos0_channel003_position000_time000_z036.png\n",
      "Saved: zstack1_1_MMStack_Pos0_channel003_position000_time000_z037.png\n",
      "Saved: zstack1_1_MMStack_Pos0_channel003_position000_time000_z038.png\n"
     ]
    }
   ],
   "source": [
    "for root, subfolders, filenames in os.walk(source_path[:-1]): #root doesn't have consistent name if source_path has '\\\\'\n",
    "    for filename in filenames:\n",
    "        # print(f'Reading: {filename}')\n",
    "        \n",
    "        filepath = root + \"\\\\\" + filename\n",
    "        # print(f'Reading: {filepath}')\n",
    "\n",
    "        filename_list = filename.split('.')\n",
    "        og_name = filename_list[0] #first of list=name\n",
    "        ext = filename_list[-1] #last of list=extension\n",
    "\n",
    "        if ext==\"tif\" or ext==\"tiff\": #only compress tiff files (prevents compression of other filetypes)\n",
    "            print(f'Reading Image: {filepath}')\n",
    "            read_image = tiff.imread(filepath)\n",
    "            write_path = (root+'\\\\').replace(source_path, dest_path)\n",
    "            tag_value = get_tiff_metadata(tif_img_loc=filepath) #tag value is a dict containing the tiff tag\n",
    "\n",
    "            if len(read_image.shape)==2: #single images\n",
    "                #increase compress level(0-9) to gain few percent better compression but much slower\n",
    "                io.imsave(fname=write_path+\"\\\\\"+og_name+\".png\", arr=read_image, check_contrast=False, plugin='imageio', compress_level=3)\n",
    "                print(f'Saved: {og_name}.png')\n",
    "\n",
    "            elif len(read_image.shape)!=2: #image stacks\n",
    "                time_max = tag_value.get('FrameIndex') + 1 \n",
    "                z_max = tag_value.get('SliceIndex') + 1\n",
    "                channel_max = tag_value.get('ChannelIndex') + 1\n",
    "                pos_max = tag_value.get('PositionIndex') + 1\n",
    "\n",
    "                for pos_i in range(pos_max):\n",
    "                    for time_i in range(time_max):\n",
    "                        for ch_i in range(channel_max):\n",
    "                            for z_i in range(z_max):\n",
    "                                single_image = single_img_selector(read_image, filepath, ch_i, time_i, z_i) #pick single image\n",
    "                                if len(single_image.shape) != 2: #single image must be 2 dimensional\n",
    "                                    print('Error: Bad Axes label. Skipping image.')\n",
    "                                    continue\n",
    "                                else:\n",
    "                                    new_name = f'{og_name}_channel{ch_i:03d}_position{pos_i:03d}_time{time_i:03d}_z{z_i:03d}' #for mmanager's format use time{time_i:09d}\n",
    "                                    io.imsave(fname=write_path+\"\\\\\"+new_name+\".png\", arr=single_image, check_contrast=False, plugin='imageio', compress_level=3)\n",
    "                                    print(f'Saved: {new_name}.png')\n",
    "                                    # copy_metadata(tag_value=tag_value, png_img=write_path+\"\\\\\"+new_name+\".png\") #use for copying metadata into the image"
   ]
  }
 ],
 "metadata": {
  "kernelspec": {
   "display_name": "Python 3.9.12 ('image_analysis')",
   "language": "python",
   "name": "python3"
  },
  "language_info": {
   "codemirror_mode": {
    "name": "ipython",
    "version": 3
   },
   "file_extension": ".py",
   "mimetype": "text/x-python",
   "name": "python",
   "nbconvert_exporter": "python",
   "pygments_lexer": "ipython3",
   "version": "3.9.13"
  },
  "orig_nbformat": 4,
  "vscode": {
   "interpreter": {
    "hash": "b2793907f1a94842022a50242beefcb8b5874a941e5914a8098929a1b42a56d0"
   }
  }
 },
 "nbformat": 4,
 "nbformat_minor": 2
}
