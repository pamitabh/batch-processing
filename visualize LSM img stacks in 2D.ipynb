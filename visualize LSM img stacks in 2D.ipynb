{
 "cells": [
  {
   "attachments": {},
   "cell_type": "markdown",
   "metadata": {},
   "source": [
    "Author(s): Piyush Amitabh\n",
    "\n",
    "Details: this code generates mip and stitches them to visualize the tracks\n",
    "\n",
    "Created: May 02, 2023\n",
    "\n",
    "License: GNU GPL v3.0"
   ]
  },
  {
   "attachments": {},
   "cell_type": "markdown",
   "metadata": {},
   "source": [
    "Comment: it is scope agnostic (KLA/WIL LSM) and os agnostic"
   ]
  },
  {
   "cell_type": "code",
   "execution_count": null,
   "metadata": {},
   "outputs": [],
   "source": [
    "import os\n",
    "import numpy as np\n",
    "import pandas as pd\n",
    "import matplotlib.pyplot as plt"
   ]
  },
  {
   "cell_type": "code",
   "execution_count": null,
   "metadata": {},
   "outputs": [],
   "source": [
    "# from scipy import ndimage as ndi\n",
    "# import pickle\n",
    "import skimage\n",
    "from PIL import Image\n",
    "import tifffile as tiff\n",
    "from natsort import natsorted"
   ]
  },
  {
   "cell_type": "code",
   "execution_count": null,
   "metadata": {},
   "outputs": [],
   "source": [
    "# from tqdm import tqdm\n",
    "# import plotly.express as px\n",
    "# import plotly.graph_objects as go\n",
    "# import dask"
   ]
  },
  {
   "cell_type": "code",
   "execution_count": null,
   "metadata": {},
   "outputs": [],
   "source": [
    "#ask the user for the inputs\n",
    "\n",
    "print('Warning: This code ONLY works with single channel z-stack tiff images. It will give unpredictable results with multiple channels.')\n",
    "print('Warning: This code assumes the image name has channel name and position/region name for stiching')\n",
    "main_dir = input('Enter the Parent directory where ALL the image stacks are stored: ')"
   ]
  },
  {
   "cell_type": "code",
   "execution_count": null,
   "metadata": {},
   "outputs": [],
   "source": [
    "global findscope_flag\n",
    "findscope_flag = 0\n",
    "\n",
    "def find_lsm_scope(img_h, img_w):\n",
    "    '''Finds LSM Scope and downscaling factor automatically using image height and width.\n",
    "    Returns: \n",
    "    ds_factor_h = downscaling factor in height, \n",
    "    ds_factor_w = downscaling factor in width'''\n",
    "\n",
    "    if img_w==img_h: # probably KLA LSM\n",
    "        findscope_flag = 1\n",
    "\n",
    "        ds_factor_h = 2048//img_h\n",
    "        ds_factor_w = 2048//img_w\n",
    "        r = 2048%img_h\n",
    "\n",
    "        if r>0: #implying downscaling factor is in fraction\n",
    "            findscope_flag = 0\n",
    "            print(\"Downscaling factor in fraction. Can't process automatically.\")\n",
    "\n",
    "    elif img_w>img_h: # probably WIL LSM\n",
    "        findscope_flag = 2\n",
    "\n",
    "        ds_factor_h = 2160//img_h\n",
    "        ds_factor_w = 2560//img_w\n",
    "\n",
    "        if ds_factor_h!=ds_factor_w:\n",
    "            findscope_flag=0\n",
    "\n",
    "        r_h = 2160%img_h\n",
    "        r_w = 2560%img_w\n",
    "        \n",
    "        if r_h>0 or r_w>0 : #implying downscaling factor is in fraction\n",
    "            findscope_flag = 0\n",
    "            print(\"Downscaling factor in fraction. Can't process automatically.\")\n",
    "\n",
    "    if findscope_flag==1:\n",
    "        print('LSM Scope used: KLA')\n",
    "        print(f'Downscaling factor = {ds_factor_w}')\n",
    "    elif findscope_flag==2:\n",
    "        print('LSM Scope used: WIL')\n",
    "        print(f'Downscaling factor = {ds_factor_w}')\n",
    "\n",
    "    user_check = input('Is the above information correct?(y/n): ')\n",
    "    if user_check.casefold()=='n':\n",
    "        findscope_flag = 0\n",
    "    else:\n",
    "        print(\"Fatal Error: Exiting\")\n",
    "        exit()\n",
    "\n",
    "    if findscope_flag==0: #couldn't find scope, enter manually\n",
    "        print(\"ERROR: Can't determine LSM scope automatically.\\nEnter manually\")\n",
    "        findscope_flag = int(input('Enter the scope used:\\n1 - KLA LSM Scope\\n2 - WIL LSM Scope\\nInput (1/2): '))\n",
    "        if findscope_flag==1 or findscope_flag==2:\n",
    "            ds_factor_h = int(input('Enter the downscaling factor in height: '))\n",
    "            ds_factor_w = int(input('Enter the downscaling factor in width: '))\n",
    "        else:\n",
    "            print(\"Fatal Error: Exiting\")\n",
    "            exit()\n",
    "\n",
    "    return(ds_factor_h, ds_factor_w)"
   ]
  },
  {
   "cell_type": "code",
   "execution_count": null,
   "metadata": {},
   "outputs": [],
   "source": [
    "channel_names = ['GFP', 'RFP']\n",
    "\n",
    "for root, subfolders, filenames in os.walk(main_dir):\n",
    "    for filename in filenames:\n",
    "        # print(f'Reading: {filename}')\n",
    "        \n",
    "        filepath = os.path.join(root, filename)\n",
    "        # print(f'Reading: {filepath}')\n",
    "\n",
    "        filename_list = filename.split('.')\n",
    "        og_name = filename_list[0] #first of list=name\n",
    "        ext = filename_list[-1] #last of list=extension\n",
    "\n",
    "        if ext==\"tif\" or ext==\"tiff\": #tiff files\n",
    "            print(f'Reading Image: {filepath}')\n",
    "            read_image = tiff.imread(filepath)\n",
    "            \n",
    "            if len(read_image.shape)==2: #single images, assume BF\n",
    "                if findscope_flag==0:\n",
    "                    ds_h, ds_w = find_lsm_scope(img_h = read_image.shape[0], img_w = read_image.shape[1])\n",
    "\n",
    "            elif len(read_image.shape)!=2: #image stacks, create MIP\n",
    "                #generate max intensity zproject from stack_full\n",
    "                arr_mip = np.max(read_image, axis=0)\n",
    "\n",
    "            for ch_name in channel_names:\n",
    "                if ch_name.casefold() in og_name.casefold():\n",
    "                    dest = os.path.join(root, ch_name.casefold()+'_mip')\n",
    "                    if not os.path.exists(dest): #check if the dest exists\n",
    "                        print(\"Write path doesn't exist.\")\n",
    "                        os.makedirs(dest)\n",
    "                        print(f\"Directory '{ch_name.casefold()}'_mip created\")\n",
    "                # os.chdir(dest)\n",
    "                img_mip = Image.fromarray(arr_mip)\n",
    "                img_mip.save(os.path.join(dest, og_name+'_mip.tif'))\n",
    "                "
   ]
  },
  {
   "cell_type": "code",
   "execution_count": null,
   "metadata": {},
   "outputs": [],
   "source": [
    "# %% [markdown]\n",
    "# The pixel spacing in our LSM image is 1µm in the z axis, and  0.1625µm in the x and y axes.\n",
    "\n",
    "# %%\n",
    "zd, xd, yd = 1, 0.1625, 0.1625 #zeroth dimension is z\n",
    "orig_spacing = np.array([zd, xd, yd]) #change to the actual pixel spacing from the microscope\n",
    "new_spacing = np.array([zd, xd*ds_h, yd*ds_w]) #downscale x&y by n"
   ]
  }
 ],
 "metadata": {
  "language_info": {
   "name": "python"
  },
  "orig_nbformat": 4
 },
 "nbformat": 4,
 "nbformat_minor": 2
}
