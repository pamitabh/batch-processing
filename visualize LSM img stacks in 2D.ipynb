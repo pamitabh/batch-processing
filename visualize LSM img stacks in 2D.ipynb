{
 "cells": [
  {
   "attachments": {},
   "cell_type": "markdown",
   "metadata": {},
   "source": [
    "Author(s): Piyush Amitabh\n",
    "\n",
    "Details: this code generates mip and stitches them to visualize the tracks\n",
    "\n",
    "Created: May 02, 2023\n",
    "\n",
    "License: GNU GPL v3.0"
   ]
  },
  {
   "attachments": {},
   "cell_type": "markdown",
   "metadata": {},
   "source": [
    "Comment: it is scope agnostic (KLA/WIL LSM) and os agnostic"
   ]
  },
  {
   "cell_type": "code",
   "execution_count": 1,
   "metadata": {},
   "outputs": [],
   "source": [
    "import os\n",
    "import numpy as np\n",
    "import pandas as pd\n",
    "import matplotlib.pyplot as plt"
   ]
  },
  {
   "cell_type": "code",
   "execution_count": 2,
   "metadata": {},
   "outputs": [],
   "source": [
    "# from scipy import ndimage as ndi\n",
    "# import pickle\n",
    "import skimage\n",
    "from PIL import Image\n",
    "import tifffile as tiff\n",
    "from natsort import natsorted"
   ]
  },
  {
   "cell_type": "code",
   "execution_count": 3,
   "metadata": {},
   "outputs": [],
   "source": [
    "from tqdm import tqdm\n",
    "# import plotly.express as px\n",
    "# import plotly.graph_objects as go\n",
    "# import dask\n",
    "import configparser\n",
    "import re"
   ]
  },
  {
   "attachments": {},
   "cell_type": "markdown",
   "metadata": {},
   "source": [
    "# Batchprocess MIP"
   ]
  },
  {
   "cell_type": "code",
   "execution_count": null,
   "metadata": {},
   "outputs": [],
   "source": [
    "#ask the user for the inputs\n",
    "print('Warning: This code ONLY works with single channel z-stack tiff images. It will give unpredictable results with multiple channels.')\n",
    "print('Warning: This code assumes the image name has channel name and position/region name for stiching')\n",
    "main_dir = input('Enter the Parent directory where ALL the image stacks are stored: ')"
   ]
  },
  {
   "cell_type": "code",
   "execution_count": null,
   "metadata": {},
   "outputs": [],
   "source": [
    "channel_names = ['GFP', 'RFP']\n",
    "\n",
    "for root, subfolders, filenames in os.walk(main_dir):\n",
    "    for filename in filenames:\n",
    "        # print(f'Reading: {filename}')\n",
    "        \n",
    "        filepath = os.path.join(root, filename)\n",
    "        # print(f'Reading: {filepath}')\n",
    "\n",
    "        filename_list = filename.split('.')\n",
    "        og_name = filename_list[0] #first of list=name\n",
    "        ext = filename_list[-1] #last of list=extension\n",
    "\n",
    "        if ext==\"tif\" or ext==\"tiff\": #tiff files\n",
    "            print(f'Reading Image: {filepath}')\n",
    "            read_image = tiff.imread(filepath)\n",
    "\n",
    "            if len(read_image.shape)!=2: #image stacks, create MIP\n",
    "                arr_mip = np.max(read_image, axis=0)\n",
    "\n",
    "            for ch_name in channel_names:\n",
    "                if ch_name.casefold() in og_name.casefold():\n",
    "                    dest = os.path.join(root, ch_name.casefold()+'_mip')\n",
    "                    if not os.path.exists(dest): #check if the dest exists\n",
    "                        print(\"Write path doesn't exist.\")\n",
    "                        os.makedirs(dest)\n",
    "                        print(f\"Directory '{ch_name.casefold()}'_mip created\")\n",
    "                img_mip = Image.fromarray(arr_mip)\n",
    "                img_mip.save(os.path.join(dest, og_name+'_mip.tif'))\n",
    "                "
   ]
  },
  {
   "attachments": {},
   "cell_type": "markdown",
   "metadata": {},
   "source": [
    "# Stitching"
   ]
  },
  {
   "cell_type": "code",
   "execution_count": 23,
   "metadata": {},
   "outputs": [
    {
     "name": "stdout",
     "output_type": "stream",
     "text": [
      "Instructions for stitching:\n",
      "Image stitching works by reading stage positions from the 'notes.txt' file generated during acquisition\n",
      "-Images MUST have 'timepoint' substring in their names\n",
      "-Images MUST have 'pos' or 'region' substring in their names\n",
      "-Images MUST have channel substring(BF/GFP/RFP) in their names\n"
     ]
    }
   ],
   "source": [
    "print(\"Instructions for stitching:\")\n",
    "print(\"Image stitching works by reading stage positions from the 'notes.txt' file generated during acquisition\")\n",
    "print(\"-Images MUST have 'timepoint' substring in their names\")\n",
    "print(\"-Images MUST have 'pos' or 'region' substring in their names\")\n",
    "print(\"-Images MUST have channel substring(BF/GFP/RFP) in their names\")\n",
    "\n",
    "stitch_dir_flag = input(\"Is stitching directory same as Parent directory above?(y/n): \")\n",
    "if stitch_dir_flag.casefold()=='y':\n",
    "    stitch_dir = main_dir\n",
    "else:\n",
    "    stitch_dir = input('Enter the location of Parent directory for stitching (must contain MIPs and notes.txt file inside): ')"
   ]
  },
  {
   "cell_type": "code",
   "execution_count": 24,
   "metadata": {},
   "outputs": [],
   "source": [
    "findscope_flag = 0 #this is a global var\n",
    "\n",
    "def find_lsm_scope(img_h, img_w):\n",
    "    '''Finds LSM Scope and downscaling factor automatically using image height and width.\n",
    "    Returns: \n",
    "    ds_factor_h = downscaling factor in height, \n",
    "    ds_factor_w = downscaling factor in width'''\n",
    "\n",
    "    global findscope_flag #refer to the global var\n",
    "\n",
    "    if img_w==img_h: # probably KLA LSM\n",
    "        findscope_flag = 1\n",
    "\n",
    "        ds_factor_h = 2048//img_h\n",
    "        ds_factor_w = 2048//img_w\n",
    "        r = 2048%img_h\n",
    "\n",
    "        if r>0: #implying downscaling factor is in fraction\n",
    "            findscope_flag = 0\n",
    "            print(\"Downscaling factor in fraction. Can't process automatically.\")\n",
    "\n",
    "    elif img_w>img_h: # probably WIL LSM\n",
    "        findscope_flag = 2\n",
    "\n",
    "        ds_factor_h = 2160//img_h\n",
    "        ds_factor_w = 2560//img_w\n",
    "\n",
    "        if ds_factor_h!=ds_factor_w:\n",
    "            findscope_flag=0\n",
    "\n",
    "        r_h = 2160%img_h\n",
    "        r_w = 2560%img_w\n",
    "        \n",
    "        if r_h>0 or r_w>0 : #implying downscaling factor is in fraction\n",
    "            findscope_flag = 0\n",
    "            print(\"Downscaling factor in fraction. Can't process automatically.\")\n",
    "\n",
    "    if findscope_flag==1:\n",
    "        print('LSM Scope used: KLA')\n",
    "        print(f'Downscaling factor = {ds_factor_w}')\n",
    "    elif findscope_flag==2:\n",
    "        print('LSM Scope used: WIL')\n",
    "        print(f'Downscaling factor = {ds_factor_w}')\n",
    "\n",
    "    user_check = input('Is the above information correct?(y/n): ') or 'y'\n",
    "    if user_check.casefold()=='n':\n",
    "        findscope_flag = 0\n",
    "\n",
    "    if findscope_flag==0: #couldn't find scope, enter manually\n",
    "        print(\"ERROR: Failed to determine LSM scope automatically.\\nEnter manually\")\n",
    "        findscope_flag = int(input('Enter the scope used:\\n1 - KLA LSM Scope\\n2 - WIL LSM Scope\\nInput (1/2): '))\n",
    "        if findscope_flag==1 or findscope_flag==2:\n",
    "            ds_factor_h = int(input('Enter the downscaling factor in height: '))\n",
    "            ds_factor_w = int(input('Enter the downscaling factor in width: '))\n",
    "        else:\n",
    "            print(\"Fatal Error: Exiting\")\n",
    "            exit()\n",
    "\n",
    "    return(ds_factor_h, ds_factor_w)"
   ]
  },
  {
   "cell_type": "code",
   "execution_count": 25,
   "metadata": {},
   "outputs": [],
   "source": [
    "pos_max = int(input('Enter number of positions/regions of imaging per timepoint: '))"
   ]
  },
  {
   "cell_type": "code",
   "execution_count": 26,
   "metadata": {},
   "outputs": [
    {
     "name": "stdout",
     "output_type": "stream",
     "text": [
      "RFP MIP images found at:/mnt/HDD/Demeter/Demeter_DATA/time lapse_10_19_22_night/Fish1/RFP/rfp_mip/\n"
     ]
    }
   ],
   "source": [
    "#removes dir and non-image(tiff) files from a list\n",
    "def remove_non_image_files(big_list, root_path):\n",
    "    small_list = []\n",
    "    for val in big_list:\n",
    "        if os.path.isfile(os.path.join(root_path, val)): #file check\n",
    "            filename_list = val.split('.')\n",
    "            og_name = filename_list[0] \n",
    "            ext = filename_list[-1] \n",
    "            if (ext==\"tif\" or ext==\"tiff\"): #img check\n",
    "                small_list.append(val)\n",
    "    return small_list\n",
    "\n",
    "#make a list of all img files by channel for stitching\n",
    "sub_names = ['BF', 'GFP', 'RFP']\n",
    "bf_flag, gfp_flag, rfp_flag = False, False, False #0 means not found, 1 mean found\n",
    "bf_path, gfp_mip_path, rfp_mip_path = '', '', ''\n",
    "bf_img_list, gfp_img_list, rfp_img_list = [], [], []\n",
    "\n",
    "for root, subfolders, filenames in os.walk(stitch_dir):\n",
    "    for filename in filenames:\n",
    "        # print(f'Reading: {filename}')\n",
    "        filepath = os.path.join(root, filename)\n",
    "        # print(f'Reading: {filepath}')\n",
    "        filename_list = filename.split('.')\n",
    "        og_name = filename_list[0] #first of list=name\n",
    "        ext = filename_list[-1] #last of list=extension\n",
    "\n",
    "        if (ext==\"tif\" or ext==\"tiff\"):\n",
    "            if (not bf_flag) and ('bf' in og_name.casefold()): #find BF\n",
    "                print('BF images found at:'+root)\n",
    "                bf_path = root\n",
    "                bf_img_list = remove_non_image_files(natsorted(os.listdir(root)), root)\n",
    "                bf_flag = True\n",
    "            elif 'mip' in og_name.casefold():\n",
    "                if (not gfp_flag) and ('gfp' in og_name.casefold()):\n",
    "                    print('GFP MIP images found at:'+root)\n",
    "                    gfp_mip_path = root\n",
    "                    gfp_img_list = remove_non_image_files(natsorted(os.listdir(root)), root)\n",
    "                    gfp_flag = True\n",
    "                elif (not rfp_flag) and ('rfp' in og_name.casefold()):\n",
    "                    print('RFP MIP images found at:'+root)\n",
    "                    rfp_mip_path = root\n",
    "                    rfp_img_list = remove_non_image_files(natsorted(os.listdir(root)), root)\n",
    "                    rfp_flag = True"
   ]
  },
  {
   "cell_type": "code",
   "execution_count": 34,
   "metadata": {},
   "outputs": [
    {
     "name": "stdout",
     "output_type": "stream",
     "text": [
      "found Notes.txt at:/mnt/HDD/Demeter/Demeter_DATA/time lapse_10_19_22_night\n"
     ]
    }
   ],
   "source": [
    "#find the nearest notes.txt\n",
    "config = configparser.ConfigParser()\n",
    "\n",
    "#get start_path for search\n",
    "#get sample image to find scope and downscaling factor\n",
    "if gfp_flag:\n",
    "    start_path = gfp_mip_path\n",
    "    img = tiff.imread(os.path.join(gfp_mip_path, gfp_img_list[0]))\n",
    "\n",
    "elif rfp_flag:\n",
    "    start_path = rfp_mip_path\n",
    "    img = tiff.imread(os.path.join(rfp_mip_path, rfp_img_list[0]))\n",
    "\n",
    "elif bf_flag:\n",
    "    start_path = bf_path\n",
    "    img = tiff.imread(os.path.join(bf_path, bf_img_list[0]))\n",
    "\n",
    "fish_num = int(start_path[start_path.casefold().rfind('fish')+len('fish')]) #find fish number starting from the child dir\n",
    "\n",
    "target1 = 'notes.txt'\n",
    "target2 = 'Notes.txt'\n",
    "while True:\n",
    "    if os.path.isfile(os.path.join(start_path,target1)):\n",
    "        #found\n",
    "        print(f'found {target1} at:'+start_path)\n",
    "        config.read(os.path.join(start_path,target1))\n",
    "        break\n",
    "    elif os.path.isfile(os.path.join(start_path,target2)):\n",
    "        #found\n",
    "        print(f'found {target2} at:'+start_path)\n",
    "        config.read(os.path.join(start_path,target2))\n",
    "        break\n",
    "\n",
    "    if os.path.dirname(start_path)==start_path: #reached root\n",
    "        #not found\n",
    "        print(\"Error: Can't find notes.txt, Enter manually\")\n",
    "        break    \n",
    "    start_path=os.path.dirname(start_path)"
   ]
  },
  {
   "cell_type": "code",
   "execution_count": 35,
   "metadata": {},
   "outputs": [
    {
     "data": {
      "text/plain": [
       "['COMMENTS',\n",
       " 'Spim Galvo Settings',\n",
       " 'Acquisition Settings',\n",
       " 'Fish 1 Notes',\n",
       " 'Fish 1 Region 1',\n",
       " 'Fish 1 Region 2',\n",
       " 'Fish 1 Region 3',\n",
       " 'Fish 1 Region 4',\n",
       " 'Fish 2 Notes',\n",
       " 'Fish 2 Region 1',\n",
       " 'Fish 2 Region 2',\n",
       " 'Fish 2 Region 3',\n",
       " 'Fish 2 Region 4']"
      ]
     },
     "execution_count": 35,
     "metadata": {},
     "output_type": "execute_result"
    }
   ],
   "source": [
    "config.sections()"
   ]
  },
  {
   "cell_type": "code",
   "execution_count": 29,
   "metadata": {},
   "outputs": [],
   "source": [
    "# #find the fish number from the image path, \n",
    "# # assuming the biggest fish number is the right fish_num as the  default folder is fish1\n",
    "# fish_num_list = []\n",
    "# fish_find_list = [m.start() for m in re.finditer('fish', gfp_mip_path.casefold())]\n",
    "# for i in fish_find_list:\n",
    "#     fish_num_list.append(int(gfp_mip_path[i+len('fish')]))\n",
    "# fish_num = np.max(fish_num_list)"
   ]
  },
  {
   "cell_type": "code",
   "execution_count": 36,
   "metadata": {},
   "outputs": [
    {
     "data": {
      "text/plain": [
       "1"
      ]
     },
     "execution_count": 36,
     "metadata": {},
     "output_type": "execute_result"
    }
   ],
   "source": [
    "fish_num"
   ]
  },
  {
   "cell_type": "code",
   "execution_count": 37,
   "metadata": {},
   "outputs": [],
   "source": [
    "abbrev = config.getfloat(f\"Fish {fish_num} Region 1\", \"x_pos\", fallback=False)"
   ]
  },
  {
   "cell_type": "code",
   "execution_count": 38,
   "metadata": {},
   "outputs": [
    {
     "name": "stdout",
     "output_type": "stream",
     "text": [
      "not abbreviated\n"
     ]
    }
   ],
   "source": [
    "if (abbrev):\n",
    "    print('abbreviated')\n",
    "    config_prop_list = [\"x_pos\", \"y_pos\", \"z_pos\"]\n",
    "else:\n",
    "    print('not abbreviated')\n",
    "    config_prop_list = [\"x_position\", \"y_position\", \"z_position\"]"
   ]
  },
  {
   "cell_type": "code",
   "execution_count": 39,
   "metadata": {},
   "outputs": [],
   "source": [
    "stage_coords = np.zeros(shape=(pos_max,3))\n",
    "for i in range(1, pos_max+1):\n",
    "    for j, val in enumerate(config_prop_list): #x/y/z axes\n",
    "        stage_coords[i-1][j] = config.getfloat(f\"Fish {fish_num} Region {i}\", val)"
   ]
  },
  {
   "cell_type": "code",
   "execution_count": 40,
   "metadata": {},
   "outputs": [
    {
     "data": {
      "text/plain": [
       "array([[-9053., -3985., -2364.],\n",
       "       [-9062., -3655., -2364.],\n",
       "       [-9137., -3325., -2364.],\n",
       "       [-9262., -2995., -2364.]])"
      ]
     },
     "execution_count": 40,
     "metadata": {},
     "output_type": "execute_result"
    }
   ],
   "source": [
    "stage_coords"
   ]
  },
  {
   "cell_type": "code",
   "execution_count": 41,
   "metadata": {},
   "outputs": [
    {
     "data": {
      "text/plain": [
       "(512, 512)"
      ]
     },
     "execution_count": 41,
     "metadata": {},
     "output_type": "execute_result"
    }
   ],
   "source": [
    "img.shape"
   ]
  },
  {
   "cell_type": "code",
   "execution_count": 42,
   "metadata": {},
   "outputs": [
    {
     "name": "stdout",
     "output_type": "stream",
     "text": [
      "LSM Scope used: KLA\n",
      "Downscaling factor = 4\n"
     ]
    }
   ],
   "source": [
    "(ds_h, ds_w) = find_lsm_scope(img.shape[0], img.shape[1])"
   ]
  },
  {
   "cell_type": "code",
   "execution_count": 43,
   "metadata": {},
   "outputs": [
    {
     "data": {
      "text/plain": [
       "1"
      ]
     },
     "execution_count": 43,
     "metadata": {},
     "output_type": "execute_result"
    }
   ],
   "source": [
    "findscope_flag"
   ]
  },
  {
   "cell_type": "code",
   "execution_count": 44,
   "metadata": {},
   "outputs": [],
   "source": [
    "# The pixel spacing in our LSM image is 1µm in the z axis, and  0.1625µm in the x and y axes.\n",
    "zd, xd, yd = 1, 0.1625, 0.1625 #zeroth dimension is z in skimage coords\n",
    "orig_spacing = np.array([zd, xd, yd]) #change to the actual pixel spacing from the microscope\n",
    "new_spacing = np.array([zd, xd*ds_w, yd*ds_h]) #downscale x&y by n"
   ]
  },
  {
   "cell_type": "code",
   "execution_count": 45,
   "metadata": {},
   "outputs": [],
   "source": [
    "# following functions accept a list of 2D images in img_list and use stage_coords read from notes.txt to stitch images, \n",
    "# returns stitched 2D image\n",
    "def img_stitcher(stage_coords, img_list):\n",
    "    if findscope_flag==0:\n",
    "        print(\"ERROR: Couldn't find the LSM scope\")\n",
    "        exit()\n",
    "    elif findscope_flag==1: #call kla_stitch\n",
    "        stitched_image = kla_stitch(stage_coords, img_list)\n",
    "    elif findscope_flag==2: #call wil stitch\n",
    "        stitched_image = wil_stitch(stage_coords, img_list)\n",
    "    return(stitched_image)\n",
    "\n",
    "def wil_stitch(stage_coords, img_list): \n",
    "    stage_origin = stage_coords[0].copy()\n",
    "    global_coords_um = stage_coords - stage_origin\n",
    "    global_coords_um[:, [1,0]] = global_coords_um[:, [0,1]]#swap x and y axis = 1st and 2nd columns\n",
    "\n",
    "    poses = np.shape(img_list)[0]\n",
    "    img_height = np.shape(img_list)[1]\n",
    "    img_width = np.shape(img_list)[2]\n",
    "    #we only care about x and y, so get rid of last column\n",
    "    #um to pixels: 1px <-> 0.65um use downscaling factor\n",
    "    # global_coords_px_xoffset = (np.ceil(global_coords_um[:, :-1] / 0.65)).astype(int) #has first img as origin\n",
    "\n",
    "    global_coords_px_xoffset1 = (np.ceil(global_coords_um[:, 0] / new_spacing[1])).astype(int) #has first img as origin - yoffset\n",
    "    global_coords_px_xoffset2 = (np.ceil(global_coords_um[:, 1] / new_spacing[2])).astype(int) #has first img as origin - yoffset\n",
    "    global_coords_px_xoffset = np.vstack((global_coords_px_xoffset1, global_coords_px_xoffset2)).T\n",
    "    \n",
    "    #stitching along x, so choose img with minimum y as the new origin \n",
    "    y_offset_origin = np.argmin(global_coords_px_xoffset, axis=0)[1] #axis-0 is columnwise\n",
    "    global_coords_px_yoffset = global_coords_px_xoffset - global_coords_px_xoffset[y_offset_origin] #change origin to min x img\n",
    "    \n",
    "    # y is height of the image which means it is the rows in the image\n",
    "    # x is the first row in the image, y is the 2nd row\n",
    "    x_max = abs(np.amax(global_coords_px_xoffset, axis=0)[0]) + img_width #zeroth element of last list\n",
    "    y_max = abs(np.amax(global_coords_px_yoffset, axis=0)[1]) + img_height #2nd element of last list=last image y-coord\n",
    "    stitched_image = np.zeros([y_max, x_max])\n",
    "\n",
    "    for i in range(poses):\n",
    "        x0 = global_coords_px_xoffset[i, 0] #ith row and 1st column in global coords\n",
    "        y0 = global_coords_px_yoffset[i, 1] \n",
    "        stitched_image[y0:y0+img_height, x0:x0+img_width] = img_list[i]\n",
    "    \n",
    "    return(stitched_image)\n",
    "    # io.imsave('./stitched_img.png', stitched_image) #to save the image\n",
    "\n",
    "def kla_stitch(stage_coords, img_list):\n",
    "    stage_origin = stage_coords[0].copy()\n",
    "    global_coords_um = stage_coords - stage_origin\n",
    "    global_coords_um[:, 0] = global_coords_um[:, 0] * -1 #flip x axis\n",
    "    \n",
    "    poses = np.shape(img_list)[0]\n",
    "    img_height = np.shape(img_list)[1]\n",
    "    img_width = np.shape(img_list)[2]\n",
    "    \n",
    "    #we only care about x and y, so get rid of last column\n",
    "    #um to pixels: 1px <-> 0.65um use downscaling factor\n",
    "    # global_coords_px_yoffset = (np.ceil(global_coords_um[:, :-1] / 0.65)).astype(int) #has first img as origin - yoffset\n",
    "\n",
    "    global_coords_px_yoffset1 = (np.ceil(global_coords_um[:, 0] / new_spacing[1])).astype(int) #has first img as origin - yoffset\n",
    "    global_coords_px_yoffset2 = (np.ceil(global_coords_um[:, 1] / new_spacing[2])).astype(int) #has first img as origin - yoffset\n",
    "    global_coords_px_yoffset = np.vstack((global_coords_px_yoffset1, global_coords_px_yoffset2)).T\n",
    "    \n",
    "    #stitching along y, so choose img with minimum x to find x-offset\n",
    "    x_offset_origin = np.argmin(global_coords_px_yoffset, axis=0)[0] #axis-0 is columnwise\n",
    "    global_coords_px_xoffset = global_coords_px_yoffset - global_coords_px_yoffset[x_offset_origin] #change origin to min x img\n",
    "    \n",
    "    # y is height of the image which means it is the rows in the image\n",
    "    # x is the first row in the image, y is the 2nd row\n",
    "    x_max = abs(np.amax(global_coords_px_xoffset, axis=0)[0]) + img_width #zeroth element of last list\n",
    "    y_max = abs(np.amax(global_coords_px_yoffset, axis=0)[1]) + img_height #2nd element of last list=last image y-coord\n",
    "    stitched_image = np.zeros([y_max, x_max])\n",
    "\n",
    "    for i in range(poses):\n",
    "        x0 = global_coords_px_xoffset[i, 0] #ith row and 1st column in global coords\n",
    "        y0 = global_coords_px_yoffset[i, 1] \n",
    "        stitched_image[y0:y0+img_height, x0:x0+img_width] = img_list[i]\n",
    "        \n",
    "    return(stitched_image)"
   ]
  },
  {
   "cell_type": "code",
   "execution_count": 46,
   "metadata": {},
   "outputs": [
    {
     "name": "stdout",
     "output_type": "stream",
     "text": [
      "Stitching RFP images...\n",
      "Save path doesn't exist.\n",
      "Directory 'rfp_stitched' created\n"
     ]
    },
    {
     "name": "stderr",
     "output_type": "stream",
     "text": [
      "100%|██████████| 80/80 [01:16<00:00,  1.05it/s]\n"
     ]
    }
   ],
   "source": [
    "#read all images per timepoint then stitch and save them at dest \n",
    "ch_flag_list = [bf_flag, gfp_flag, rfp_flag]\n",
    "ch_path_list = [bf_path, gfp_mip_path, rfp_mip_path]\n",
    "ch_img_list = [bf_img_list, gfp_img_list, rfp_img_list]\n",
    "\n",
    "for k, ch_flag in enumerate(ch_flag_list):\n",
    "    ch_path = ch_path_list[k]\n",
    "    all_img_list = ch_img_list[k]\n",
    "    ch_name = sub_names[k]\n",
    "\n",
    "    if ch_flag:\n",
    "        print(f\"Stitching {ch_name} images...\")\n",
    "        save_path = os.path.join(ch_path, ch_name.casefold()+'_stitched')\n",
    "        if not os.path.exists(save_path): #check if the dest exists\n",
    "            print(\"Save path doesn't exist.\")\n",
    "            os.makedirs(save_path)\n",
    "            print(f\"Directory '{ch_name.casefold()}_stitched' created\")\n",
    "        else:\n",
    "            print(\"Save path exists\")\n",
    "\n",
    "        for i in tqdm(range(len(all_img_list)//pos_max)): #run once per timepoint\n",
    "            # print(f\"tp: {i+1}\")\n",
    "            img_list_per_tp = [0]*pos_max\n",
    "            for j in range(0, pos_max):\n",
    "                loc = i*pos_max + j\n",
    "                # print(loc)\n",
    "                img_list_per_tp[j] = tiff.imread(os.path.join(ch_path, all_img_list[loc])) #save all pos images in 3D array\n",
    "\n",
    "            stitched_img = img_stitcher(stage_coords, img_list_per_tp)\n",
    "            stitched_img_uint = skimage.util.img_as_uint(skimage.exposure.rescale_intensity(stitched_img)) #rescale float and change dtype to uint16\n",
    "            skimage.io.imsave(os.path.join(save_path, f'Timepoint{i+1}_{ch_name}_stitched.png'), stitched_img_uint, check_contrast=False) #to save the image"
   ]
  },
  {
   "attachments": {},
   "cell_type": "markdown",
   "metadata": {},
   "source": [
    "---"
   ]
  }
 ],
 "metadata": {
  "kernelspec": {
   "display_name": "image_analysis",
   "language": "python",
   "name": "python3"
  },
  "language_info": {
   "codemirror_mode": {
    "name": "ipython",
    "version": 3
   },
   "file_extension": ".py",
   "mimetype": "text/x-python",
   "name": "python",
   "nbconvert_exporter": "python",
   "pygments_lexer": "ipython3",
   "version": "3.11.0"
  },
  "orig_nbformat": 4
 },
 "nbformat": 4,
 "nbformat_minor": 2
}
