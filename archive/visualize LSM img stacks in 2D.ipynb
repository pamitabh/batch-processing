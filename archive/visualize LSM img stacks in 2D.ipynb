{
 "cells": [
  {
   "attachments": {},
   "cell_type": "markdown",
   "metadata": {},
   "source": [
    "Author(s): Piyush Amitabh\n",
    "\n",
    "Details: this code generates mip and stitches them to visualize the img stacks\n",
    "\n",
    "Created: May 02, 2023\n",
    "\n",
    "License: GNU GPL v3.0"
   ]
  },
  {
   "attachments": {},
   "cell_type": "markdown",
   "metadata": {},
   "source": [
    "Comment: it is scope agnostic (KLA/WIL LSM) and os agnostic"
   ]
  },
  {
   "cell_type": "markdown",
   "metadata": {},
   "source": [
    "Updated: 29 Sep, 23\n",
    "\n",
    "Detail: now this works with multi folder/multi acquisition"
   ]
  },
  {
   "cell_type": "code",
   "execution_count": 42,
   "metadata": {},
   "outputs": [],
   "source": [
    "import os\n",
    "import numpy as np\n",
    "import pandas as pd\n",
    "import matplotlib.pyplot as plt"
   ]
  },
  {
   "cell_type": "code",
   "execution_count": 43,
   "metadata": {},
   "outputs": [],
   "source": [
    "import skimage\n",
    "from PIL import Image\n",
    "import tifffile as tiff\n",
    "from natsort import natsorted"
   ]
  },
  {
   "cell_type": "code",
   "execution_count": 44,
   "metadata": {},
   "outputs": [],
   "source": [
    "from tqdm import tqdm\n",
    "import configparser\n",
    "import re"
   ]
  },
  {
   "cell_type": "code",
   "execution_count": 45,
   "metadata": {},
   "outputs": [],
   "source": [
    "# top_dir = os.path.normpath(input('Enter the top directory with ALL acquisitions: '))\n",
    "# action_flag = int(input('''Do you want to:\n",
    "#                     1. Find Max Intensity Projection AND Stitch (default)\n",
    "#                     2. Only find Max Intensity Projection\n",
    "#                     3. Only Stitch''') or '1')"
   ]
  },
  {
   "cell_type": "code",
   "execution_count": 46,
   "metadata": {},
   "outputs": [],
   "source": [
    "#testing\n",
    "top_dir = '/media/chiron/WD Elements/phox2bb_mpeg_z20_time lapse_downsampled/fish1/BF/'\n",
    "action_flag = 3"
   ]
  },
  {
   "attachments": {},
   "cell_type": "markdown",
   "metadata": {},
   "source": [
    "# Batchprocess MIP"
   ]
  },
  {
   "cell_type": "code",
   "execution_count": 47,
   "metadata": {},
   "outputs": [],
   "source": [
    "def batchprocess_mip(main_dir):\n",
    "    print('Warning: This code ONLY works with single channel z-stack tiff images. It will give unpredictable results with >3 dimensions')\n",
    "    channel_names = ['GFP', 'RFP']\n",
    "    for root, subfolders, filenames in os.walk(main_dir):\n",
    "        for filename in filenames:\n",
    "            # print(f'Reading: {filename}')\n",
    "            filepath = os.path.join(root, filename)\n",
    "            # print(f'Reading: {filepath}')\n",
    "            filename_list = filename.split('.')\n",
    "            og_name = filename_list[0] #first of list=name\n",
    "            ext = filename_list[-1] #last of list=extension\n",
    "\n",
    "            if ext==\"tif\" or ext==\"tiff\": #tiff files\n",
    "                read_image = tiff.imread(filepath)\n",
    "\n",
    "                if len(read_image.shape)==3: #check if 3D images\n",
    "                    print(f'Processing MIP for: {filepath}')\n",
    "                    arr_mip = np.max(read_image, axis=0) #create MIP\n",
    "\n",
    "                    for ch_name in channel_names: #save mip array in right directory with correct channel name\n",
    "                        if ch_name.casefold() in og_name.casefold():\n",
    "                            dest = os.path.join(root, ch_name.casefold()+'_mip')\n",
    "                            if not os.path.exists(dest): #check if the dest exists\n",
    "                                print(\"Write path doesn't exist.\")\n",
    "                                os.makedirs(dest)\n",
    "                                print(f\"Directory '{ch_name.casefold()}_mip' created\")\n",
    "\n",
    "                            img_mip = skimage.util.img_as_uint(skimage.exposure.rescale_intensity(arr_mip))\n",
    "                            if og_name.endswith('_MMStack_1'): #skip file\n",
    "                                continue\n",
    "                            elif og_name.endswith('_MMStack'): #remove 'MMStack' in saved name\n",
    "                                save_name = og_name[:-len('_MMStack')]+'_mip.'+ext\n",
    "                            else:\n",
    "                                save_name = og_name+'_mip.'+ext\n",
    "                            tiff.imwrite(os.path.join(dest, save_name), img_mip)"
   ]
  },
  {
   "cell_type": "code",
   "execution_count": 48,
   "metadata": {},
   "outputs": [],
   "source": [
    "if action_flag!=3:\n",
    "    batchprocess_mip(main_dir=top_dir)"
   ]
  },
  {
   "attachments": {},
   "cell_type": "markdown",
   "metadata": {},
   "source": [
    "# Stitching"
   ]
  },
  {
   "cell_type": "code",
   "execution_count": 49,
   "metadata": {},
   "outputs": [],
   "source": [
    "if action_flag==2: #don't stitch and exit\n",
    "    exit()"
   ]
  },
  {
   "cell_type": "code",
   "execution_count": 50,
   "metadata": {},
   "outputs": [
    {
     "name": "stdout",
     "output_type": "stream",
     "text": [
      "Instructions for stitching:\n",
      "Image stitching works by reading stage positions from the 'notes.txt' file generated during acquisition\n",
      "-Images MUST have 'timepoint' substring in their names\n",
      "-Images MUST have 'pos' or 'region' substring in their names\n",
      "-Images MUST have channel substring(BF/GFP/RFP) in their names\n"
     ]
    }
   ],
   "source": [
    "print(\"Instructions for stitching:\")\n",
    "print(\"Image stitching works by reading stage positions from the 'notes.txt' file generated during acquisition\")\n",
    "print(\"-Images MUST have 'timepoint' substring in their names\")\n",
    "print(\"-Images MUST have 'pos' or 'region' substring in their names\")\n",
    "print(\"-Images MUST have channel substring(BF/GFP/RFP) in their names\")\n",
    "\n",
    "# stitch_dir_flag = input(\"Is stitching directory same as Parent directory above?(y/n-default): \") or 'n'\n",
    "# if stitch_dir_flag.casefold()=='y':\n",
    "#     stitch_dir = main_dir\n",
    "# else:\n",
    "#     stitch_dir = input('Enter the location of Parent directory for stitching (must contain MIPs and notes.txt file inside): ')"
   ]
  },
  {
   "cell_type": "code",
   "execution_count": 51,
   "metadata": {},
   "outputs": [
    {
     "name": "stdout",
     "output_type": "stream",
     "text": [
      "Found these fish data:\n",
      "['/media/chiron/WD Elements/phox2bb_mpeg_z20_time lapse_downsampled/fish1/BF/']\n"
     ]
    }
   ],
   "source": [
    "# # all unique BF location gets added to the main_dir_list\n",
    "# main_dir_list = []\n",
    "# for root, subfolders, _ in os.walk(top_dir):\n",
    "#     if \"BF\" in subfolders:\n",
    "#         main_dir_list.append(root)\n",
    "# print(f'Found these fish data:\\n{main_dir_list}')\n",
    "\n",
    "#testing\n",
    "main_dir_list = [top_dir]\n",
    "print(f'Found these fish data:\\n{main_dir_list}')"
   ]
  },
  {
   "cell_type": "code",
   "execution_count": 52,
   "metadata": {},
   "outputs": [],
   "source": [
    "pos_input_flag = input('Is the number of pos/regions in each folder above the same? (y-default/n)') or 'y'\n",
    "if pos_input_flag.casefold()=='y':\n",
    "    pos_max_list = len(main_dir_list)* \\\n",
    "    [int(input('Enter number of positions/regions of imaging per timepoint (default=4)') or '4')]\n",
    "else:\n",
    "    pos_max_list = []\n",
    "    while pos_max_list != len(main_dir_list):\n",
    "        pos_max_list = (input('Enter the list of positions/regions separated by space in the above order')).split()\n",
    "        if pos_max_list != len(main_dir_list):\n",
    "            print('entered list length is not same as the number of folders found above. Please re-enter.')\n",
    "            continue\n",
    "        else:\n",
    "            # convert each item to int type\n",
    "            for i in range(len(pos_max_list)):\n",
    "                pos_max_list[i] = int(pos_max_list[i])"
   ]
  },
  {
   "cell_type": "code",
   "execution_count": 53,
   "metadata": {},
   "outputs": [
    {
     "data": {
      "text/plain": [
       "[4]"
      ]
     },
     "execution_count": 53,
     "metadata": {},
     "output_type": "execute_result"
    }
   ],
   "source": [
    "pos_max_list"
   ]
  },
  {
   "cell_type": "code",
   "execution_count": 54,
   "metadata": {},
   "outputs": [],
   "source": [
    "findscope_flag = 0 #this is a global var\n",
    "\n",
    "def find_lsm_scope(img_h, img_w):\n",
    "    '''Finds LSM Scope and downscaling factor automatically using image height and width.\n",
    "    Returns: \n",
    "    ds_factor_h = downscaling factor in height, \n",
    "    ds_factor_w = downscaling factor in width'''\n",
    "\n",
    "    global findscope_flag #refer to the global var\n",
    "\n",
    "    if img_w==img_h: # probably KLA LSM\n",
    "        findscope_flag = 1\n",
    "\n",
    "        ds_factor_h = 2048//img_h\n",
    "        ds_factor_w = 2048//img_w\n",
    "        r = 2048%img_h\n",
    "\n",
    "        if r>0: #implying downscaling factor is in fraction\n",
    "            findscope_flag = 0\n",
    "            print(\"Downscaling factor in fraction. Can't process automatically.\")\n",
    "\n",
    "    elif img_w>img_h: # probably WIL LSM\n",
    "        findscope_flag = 2\n",
    "\n",
    "        ds_factor_h = 2160//img_h\n",
    "        ds_factor_w = 2560//img_w\n",
    "\n",
    "        if ds_factor_h!=ds_factor_w:\n",
    "            findscope_flag=0\n",
    "\n",
    "        r_h = 2160%img_h\n",
    "        r_w = 2560%img_w\n",
    "        \n",
    "        if r_h>0 or r_w>0 : #implying downscaling factor is in fraction\n",
    "            findscope_flag = 0\n",
    "            print(\"Downscaling factor in fraction. Can't process automatically.\")\n",
    "\n",
    "    if findscope_flag==1:\n",
    "        print('LSM Scope used: KLA')\n",
    "        print(f'Downscaling factor = {ds_factor_w}')\n",
    "    elif findscope_flag==2:\n",
    "        print('LSM Scope used: WIL')\n",
    "        print(f'Downscaling factor = {ds_factor_w}')\n",
    "\n",
    "    user_check = input('Is the above information correct?(y-default/n): ') or 'y'\n",
    "    if user_check.casefold()=='n':\n",
    "        findscope_flag = 0\n",
    "\n",
    "    if findscope_flag==0: #couldn't find scope, enter manually\n",
    "        print(\"ERROR: Failed to determine LSM scope automatically.\\nEnter manually\")\n",
    "        findscope_flag = int(input('Enter the scope used:\\n1 - KLA LSM Scope\\n2 - WIL LSM Scope\\nInput (1/2): '))\n",
    "        if findscope_flag==1 or findscope_flag==2:\n",
    "            ds_factor_h = int(input('Enter the downscaling factor in height: '))\n",
    "            ds_factor_w = int(input('Enter the downscaling factor in width: '))\n",
    "        else:\n",
    "            print(\"Fatal Error: Exiting\")\n",
    "            exit()\n",
    "\n",
    "    return(ds_factor_h, ds_factor_w)"
   ]
  },
  {
   "cell_type": "code",
   "execution_count": 55,
   "metadata": {},
   "outputs": [],
   "source": [
    "# Helping functions\n",
    "# removes dir and non-image(tiff) files from a list\n",
    "def remove_non_image_files(big_list, root_path):\n",
    "    small_list = []\n",
    "    for val in big_list:\n",
    "        if os.path.isfile(os.path.join(root_path, val)):  # file check\n",
    "            filename_list = val.split(\".\")\n",
    "            og_name = filename_list[0]\n",
    "            ext = filename_list[-1]\n",
    "            if ext == \"tif\" or ext == \"tiff\":  # img check\n",
    "                small_list.append(val)\n",
    "    return small_list\n",
    "\n",
    "\n",
    "# correct the image list ordering\n",
    "def reorder_files_by_pos_tp(file_list):\n",
    "    ordered_file_list = []\n",
    "    for tp in range(1, (len(file_list) // pos_max) + 1):\n",
    "        for pos in range(1, pos_max + 1):\n",
    "            for file_name in file_list:  # find the location in img_list with pos and tp\n",
    "                if (f\"pos{pos}_\" in file_name.casefold()) and (\n",
    "                    f\"timepoint{tp}_\" in file_name.casefold()\n",
    "                ):\n",
    "                    ordered_file_list.append(file_name)\n",
    "    return ordered_file_list\n",
    "\n",
    "\n",
    "# finds the target file nearest to the start_path\n",
    "def find_nearest_target_file(target, start_path):\n",
    "    \"\"\"finds nearest target file to the 'start_path' in the dir structure\n",
    "    returns the location of the found file\"\"\"\n",
    "    while True:\n",
    "        if os.path.isfile(os.path.join(start_path, target)):\n",
    "            # found\n",
    "            print(f\"found {target} at:\" + start_path)\n",
    "            found_path = os.path.join(start_path, target)\n",
    "            break\n",
    "\n",
    "        if os.path.dirname(start_path) == start_path:  # reached root\n",
    "            # not found\n",
    "            print(f\"Error: Can't find {target}, Enter manually\")\n",
    "            found_path = input(\"Enter complete path (should end with .txt): \")\n",
    "            break\n",
    "        start_path = os.path.dirname(start_path)\n",
    "    return found_path"
   ]
  },
  {
   "cell_type": "code",
   "execution_count": 56,
   "metadata": {},
   "outputs": [
    {
     "data": {
      "text/plain": [
       "(4, 540, 640)"
      ]
     },
     "execution_count": 56,
     "metadata": {},
     "output_type": "execute_result"
    }
   ],
   "source": [
    "np.shape(img_list_per_tp)"
   ]
  },
  {
   "cell_type": "code",
   "execution_count": 57,
   "metadata": {},
   "outputs": [],
   "source": [
    "poses = np.shape(img_list_per_tp)[0]\n",
    "img_height = np.shape(img_list_per_tp)[1]\n",
    "img_width = np.shape(img_list_per_tp)[2]"
   ]
  },
  {
   "cell_type": "code",
   "execution_count": 58,
   "metadata": {},
   "outputs": [
    {
     "data": {
      "text/plain": [
       "array([[-2088., -4208.,  7907.],\n",
       "       [-2111., -3808.,  8029.],\n",
       "       [-2206., -3408.,  8053.],\n",
       "       [-2283., -3008.,  8093.]])"
      ]
     },
     "execution_count": 58,
     "metadata": {},
     "output_type": "execute_result"
    }
   ],
   "source": [
    "stage_coords"
   ]
  },
  {
   "cell_type": "code",
   "execution_count": 59,
   "metadata": {},
   "outputs": [
    {
     "data": {
      "text/plain": [
       "array([[  -0.,    0.,    0.],\n",
       "       [  23.,  400.,  122.],\n",
       "       [ 118.,  800.,  146.],\n",
       "       [ 195., 1200.,  186.]])"
      ]
     },
     "execution_count": 59,
     "metadata": {},
     "output_type": "execute_result"
    }
   ],
   "source": [
    "stage_origin = stage_coords[0].copy()\n",
    "global_coords_um = stage_coords - stage_origin\n",
    "# global_coords_um[:, [1, 0]] = global_coords_um[:, [0, 1]]  # swap x and y axis = 1st and 2nd columns\n",
    "global_coords_um[:, 0] = global_coords_um[:, 0] * -1  # flip x axis\n",
    "global_coords_um\n"
   ]
  },
  {
   "cell_type": "code",
   "execution_count": 60,
   "metadata": {},
   "outputs": [
    {
     "data": {
      "text/plain": [
       "array([[   0,    0],\n",
       "       [  36,  616],\n",
       "       [ 182, 1231],\n",
       "       [ 300, 1847]])"
      ]
     },
     "execution_count": 60,
     "metadata": {},
     "output_type": "execute_result"
    }
   ],
   "source": [
    "\n",
    "# find height and width offsets\n",
    "global_coords_px_width_offset1 = (np.ceil(global_coords_um[:, 0] / new_spacing[1])).astype(int)  # has first img as origin - xoffset\n",
    "global_coords_px_width_offset2 = (np.ceil(global_coords_um[:, 1] / new_spacing[2])).astype(int)\n",
    "global_coords_px_width_offset = np.vstack((global_coords_px_width_offset1, global_coords_px_width_offset2)).T\n",
    "global_coords_px_width_offset"
   ]
  },
  {
   "cell_type": "code",
   "execution_count": 61,
   "metadata": {},
   "outputs": [
    {
     "data": {
      "text/plain": [
       "0"
      ]
     },
     "execution_count": 61,
     "metadata": {},
     "output_type": "execute_result"
    }
   ],
   "source": [
    "# stitching along img_width, so choose img with minimum x-dv as the new origin\n",
    "height_offset_origin = np.argmin(global_coords_px_width_offset, axis=0)[0]  # axis-0 is columnwise\n",
    "height_offset_origin"
   ]
  },
  {
   "cell_type": "code",
   "execution_count": 62,
   "metadata": {},
   "outputs": [
    {
     "data": {
      "text/plain": [
       "array([[   0,    0],\n",
       "       [  36,  616],\n",
       "       [ 182, 1231],\n",
       "       [ 300, 1847]])"
      ]
     },
     "execution_count": 62,
     "metadata": {},
     "output_type": "execute_result"
    }
   ],
   "source": [
    "global_coords_px_height_offset = global_coords_px_width_offset - global_coords_px_width_offset[height_offset_origin]\n",
    "global_coords_px_height_offset"
   ]
  },
  {
   "cell_type": "code",
   "execution_count": 68,
   "metadata": {},
   "outputs": [
    {
     "name": "stdout",
     "output_type": "stream",
     "text": [
      "0\n",
      "1\n",
      "2\n",
      "3\n"
     ]
    }
   ],
   "source": [
    "width_max = abs(np.amax(global_coords_px_width_offset, axis=0)[1]) + img_width\n",
    "height_max = abs(np.amax(global_coords_px_height_offset, axis=0)[0]) + img_height\n",
    "stitched_image = np.zeros([height_max, width_max]) #rows-height, cols-width\n",
    "for i in range(poses):\n",
    "    print(i)\n",
    "    h0 = global_coords_px_height_offset[i, 0]  # ith row and 1st column in global coords\n",
    "    w0 = global_coords_px_width_offset[i, 1]\n",
    "    stitched_image[h0 : h0 + img_height, w0 : w0 + img_width] = img_list_per_tp[i]"
   ]
  },
  {
   "cell_type": "code",
   "execution_count": 71,
   "metadata": {},
   "outputs": [
    {
     "name": "stderr",
     "output_type": "stream",
     "text": [
      "/home/chiron/miniconda3/envs/image_analysis/lib/python3.11/site-packages/skimage/io/_plugins/matplotlib_plugin.py:149: UserWarning: Float image out of standard range; displaying image with stretched contrast.\n",
      "  lo, hi, cmap = _get_display_range(image)\n"
     ]
    },
    {
     "data": {
      "text/plain": [
       "<matplotlib.image.AxesImage at 0x7f6808710390>"
      ]
     },
     "execution_count": 71,
     "metadata": {},
     "output_type": "execute_result"
    },
    {
     "data": {
      "image/png": "[encoded data removed]",
      "text/plain": [
       "<Figure size 640x480 with 2 Axes>"
      ]
     },
     "metadata": {},
     "output_type": "display_data"
    }
   ],
   "source": [
    "skimage.io.imshow(stitched_image)"
   ]
  },
  {
   "cell_type": "code",
   "execution_count": 67,
   "metadata": {},
   "outputs": [
    {
     "data": {
      "text/plain": [
       "940"
      ]
     },
     "execution_count": 67,
     "metadata": {},
     "output_type": "execute_result"
    }
   ],
   "source": [
    "width_max"
   ]
  },
  {
   "cell_type": "code",
   "execution_count": 29,
   "metadata": {},
   "outputs": [],
   "source": [
    "def wil_stitch(stage_coords, img_list):\n",
    "    stage_origin = stage_coords[0].copy()\n",
    "    global_coords_um = stage_coords - stage_origin\n",
    "    global_coords_um[:, [1, 0]] = global_coords_um[:, [0, 1]]  # swap x and y axis = 1st and 2nd columns\n",
    "\n",
    "    poses = np.shape(img_list)[0]\n",
    "    img_height = np.shape(img_list)[1]\n",
    "    img_width = np.shape(img_list)[2]\n",
    "    # we only care about x and y, so get rid of last column\n",
    "    # um to pixels: 1px = (1/pixel width) um\n",
    "    # global_coords_px_xoffset = (np.ceil(global_coords_um[:, :-1] / 0.65)).astype(int) #has first img as origin\n",
    "\n",
    "    # find horizontal (h) and vertical (v) offsets\n",
    "    global_coords_px_hoffset1 = (np.ceil(global_coords_um[:, 0] / new_spacing[1])).astype(int)  # has first img as origin - xoffset\n",
    "    global_coords_px_hoffset2 = (np.ceil(global_coords_um[:, 1] / new_spacing[2])).astype(int)\n",
    "    global_coords_px_hoffset = np.vstack((global_coords_px_hoffset1, global_coords_px_hoffset2)).T\n",
    "\n",
    "    # stitching along x, so choose img with minimum y as the new origin\n",
    "    v_offset_origin = np.argmin(global_coords_px_hoffset, axis=0)[1]  # axis-0 is columnwise\n",
    "    global_coords_px_voffset = (\n",
    "        global_coords_px_hoffset - global_coords_px_hoffset[v_offset_origin]\n",
    "    )  # change origin to min y img\n",
    "\n",
    "    # y is height of the image which means it is the rows in the image\n",
    "    # x is the first row in the image, y is the 2nd row\n",
    "    x_max = (\n",
    "        abs(np.amax(global_coords_px_hoffset, axis=0)[0]) + img_width\n",
    "    )  # zeroth element of last list\n",
    "    y_max = (\n",
    "        abs(np.amax(global_coords_px_voffset, axis=0)[1]) + img_height\n",
    "    )  # 2nd element of last list=last image y-coord\n",
    "    stitched_image = np.zeros([y_max, x_max])\n",
    "    for i in range(poses):\n",
    "        x0 = global_coords_px_hoffset[\n",
    "            i, 0\n",
    "        ]  # ith row and 1st column in global coords\n",
    "        y0 = global_coords_px_voffset[i, 1]\n",
    "        stitched_image[y0 : y0 + img_height, x0 : x0 + img_width] = img_list[i]\n",
    "    return stitched_image"
   ]
  },
  {
   "cell_type": "code",
   "execution_count": 30,
   "metadata": {},
   "outputs": [],
   "source": [
    "\n",
    "def img_stitcher(stage_coords, img_list):\n",
    "    \"\"\"accept a list of 2D images in img_list and use stage_coords read from notes.txt to stitch images\n",
    "    Returns: 2D np.array containing the stitched image\n",
    "    \"\"\"\n",
    "    stitched_image = None\n",
    "    if findscope_flag == 0:\n",
    "        print(\"ERROR: Couldn't find the LSM scope\")\n",
    "        exit()\n",
    "    elif findscope_flag == 1:  # call kla_stitch\n",
    "        stitched_image = kla_stitch(stage_coords, img_list)\n",
    "    elif findscope_flag == 2:  # call wil stitch\n",
    "        stitched_image = wil_stitch(stage_coords, img_list)\n",
    "    return stitched_image\n",
    "\n",
    "def kla_stitch(stage_coords, img_list):\n",
    "    stage_origin = stage_coords[0].copy()\n",
    "    global_coords_um = stage_coords - stage_origin\n",
    "    global_coords_um[:, 0] = global_coords_um[:, 0] * -1  # flip x axis\n",
    "\n",
    "    poses = np.shape(img_list)[0]\n",
    "    img_height = np.shape(img_list)[1]\n",
    "    img_width = np.shape(img_list)[2]\n",
    "\n",
    "    # we only care about x and y, so get rid of last column\n",
    "    # um to pixels: 1px <-> 0.65um use downscaling factor\n",
    "    # global_coords_px_yoffset = (np.ceil(global_coords_um[:, :-1] / 0.65)).astype(int) #has first img as origin - yoffset\n",
    "\n",
    "    global_coords_px_yoffset1 = (\n",
    "        np.ceil(global_coords_um[:, 0] / new_spacing[1])\n",
    "    ).astype(\n",
    "        int\n",
    "    )  # has first img as origin - yoffset\n",
    "    global_coords_px_yoffset2 = (\n",
    "        np.ceil(global_coords_um[:, 1] / new_spacing[2])\n",
    "    ).astype(int)\n",
    "    global_coords_px_yoffset = np.vstack(\n",
    "        (global_coords_px_yoffset1, global_coords_px_yoffset2)\n",
    "    ).T\n",
    "\n",
    "    # stitching along y, so choose img with minimum x to find x-offset\n",
    "    x_offset_origin = np.argmin(global_coords_px_yoffset, axis=0)[\n",
    "        0\n",
    "    ]  # axis-0 is columnwise\n",
    "    global_coords_px_xoffset = (\n",
    "        global_coords_px_yoffset - global_coords_px_yoffset[x_offset_origin]\n",
    "    )  # change origin to min x img\n",
    "\n",
    "    # y is height of the image which means it is the rows in the image\n",
    "    # x is the first row in the image, y is the 2nd row\n",
    "    x_max = (\n",
    "        abs(np.amax(global_coords_px_xoffset, axis=0)[0]) + img_width\n",
    "    )  # zeroth element of last list\n",
    "    y_max = (\n",
    "        abs(np.amax(global_coords_px_yoffset, axis=0)[1]) + img_height\n",
    "    )  # 2nd element of last list=last image y-coord\n",
    "    stitched_image = np.zeros([y_max, x_max])\n",
    "    for i in range(poses):\n",
    "        x0 = global_coords_px_xoffset[\n",
    "            i, 0\n",
    "        ]  # ith row and 1st column in global coords\n",
    "        y0 = global_coords_px_yoffset[i, 1]\n",
    "        stitched_image[y0 : y0 + img_height, x0 : x0 + img_width] = img_list[i]\n",
    "    return stitched_image"
   ]
  },
  {
   "cell_type": "code",
   "execution_count": 31,
   "metadata": {},
   "outputs": [
    {
     "name": "stdout",
     "output_type": "stream",
     "text": [
      "BF images found at:/media/chiron/WD Elements/phox2bb_mpeg_z20_time lapse_downsampled/fish1/BF/\n",
      "No GFP MIP images found in /media/chiron/WD Elements/phox2bb_mpeg_z20_time lapse_downsampled/fish1/BF/\n",
      "No RFP MIP images found in /media/chiron/WD Elements/phox2bb_mpeg_z20_time lapse_downsampled/fish1/BF/\n",
      "Found fish_num = 1\n",
      "found notes.txt at:/media/chiron/WD Elements/phox2bb_mpeg_z20_time lapse_downsampled\n",
      "Found stage_coords: \n",
      "[[-2088. -4208.  7907.]\n",
      " [-2111. -3808.  8029.]\n",
      " [-2206. -3408.  8053.]\n",
      " [-2283. -3008.  8093.]]\n",
      "LSM Scope used: WIL\n",
      "Downscaling factor = 4\n"
     ]
    },
    {
     "name": "stdout",
     "output_type": "stream",
     "text": [
      "Stitching BF images...\n",
      "Save path doesn't exist.\n",
      "Directory 'bf_mip_stitched' created\n"
     ]
    },
    {
     "name": "stderr",
     "output_type": "stream",
     "text": [
      "100%|██████████| 40/40 [00:09<00:00,  4.10it/s]\n"
     ]
    }
   ],
   "source": [
    "sub_names = [\"BF\", \"GFP\", \"RFP\"]\n",
    "target1 = \"notes.txt\"\n",
    "target2 = \"Notes.txt\"\n",
    "\n",
    "for main_dir, pos_max in zip(main_dir_list, pos_max_list):  # main_dir = location of Directory containing ONE fish data \\n(this must contain BF/MIPs):\n",
    "    # make a list of all 2D img files by channel\n",
    "    bf_flag, gfp_flag, rfp_flag = False, False, False  # 0 means not found, 1 mean found\n",
    "    bf_path, gfp_mip_path, rfp_mip_path = \"\", \"\", \"\"\n",
    "    bf_img_list, gfp_img_list, rfp_img_list = [], [], []\n",
    "\n",
    "    for root, subfolders, filenames in os.walk(main_dir):\n",
    "        for filename in filenames:\n",
    "            filepath = os.path.join(root, filename)\n",
    "            # print(f'Reading: {filepath}')\n",
    "            filename_list = filename.split(\".\")\n",
    "            og_name = filename_list[0]  # first of list=name\n",
    "            ext = filename_list[-1]  # last of list=extension\n",
    "\n",
    "            if ext == \"tif\" or ext == \"tiff\":\n",
    "                if (not bf_flag) and (\"bf\" in og_name.casefold()):  # find BF\n",
    "                    print(\"BF images found at:\" + root)\n",
    "                    bf_path = root\n",
    "                    bf_img_list = reorder_files_by_pos_tp(\n",
    "                        remove_non_image_files(natsorted(os.listdir(root)), root)\n",
    "                    )\n",
    "                    bf_flag = True\n",
    "                elif \"mip\" in og_name.casefold():\n",
    "                    if (not gfp_flag) and (\"gfp\" in og_name.casefold()):\n",
    "                        print(\"GFP MIP images found at:\" + root)\n",
    "                        gfp_mip_path = root\n",
    "                        gfp_img_list = reorder_files_by_pos_tp(\n",
    "                            remove_non_image_files(natsorted(os.listdir(root)), root)\n",
    "                        )\n",
    "                        gfp_flag = True\n",
    "                    elif (not rfp_flag) and (\"rfp\" in og_name.casefold()):\n",
    "                        print(\"RFP MIP images found at:\" + root)\n",
    "                        rfp_mip_path = root\n",
    "                        rfp_img_list = reorder_files_by_pos_tp(\n",
    "                            remove_non_image_files(natsorted(os.listdir(root)), root)\n",
    "                        )\n",
    "                        rfp_flag = True\n",
    "    if not bf_flag:\n",
    "        print(f\"No BF images found in {main_dir}\")\n",
    "    if not gfp_flag:\n",
    "        print(f\"No GFP MIP images found in {main_dir}\")\n",
    "    if not rfp_flag:\n",
    "        print(f\"No RFP MIP images found in {main_dir}\")\n",
    "\n",
    "    # Stitch images\n",
    "\n",
    "    # find the nearest notes.txt\n",
    "    config = configparser.ConfigParser()\n",
    "    start_path = \"\"\n",
    "    img = np.zeros((1, 1))  # dummy\n",
    "    # get start_path for search\n",
    "    # get sample image to find scope and downscaling factor\n",
    "    if gfp_flag:\n",
    "        start_path = gfp_mip_path\n",
    "        img = tiff.imread(os.path.join(gfp_mip_path, gfp_img_list[0]))\n",
    "    elif rfp_flag:\n",
    "        start_path = rfp_mip_path\n",
    "        img = tiff.imread(os.path.join(rfp_mip_path, rfp_img_list[0]))\n",
    "    elif bf_flag:\n",
    "        start_path = bf_path\n",
    "        img = tiff.imread(os.path.join(bf_path, bf_img_list[0]))\n",
    "    # find the fish number from the image path\n",
    "    fish_num = int(\n",
    "        start_path[start_path.casefold().rfind(\"fish\") + len(\"fish\")]\n",
    "    )  # find fish number starting from the child dir\n",
    "    print(f\"Found fish_num = {fish_num}\")\n",
    "    # user_check = \"y\"\n",
    "    # if user_check.casefold() == \"n\":\n",
    "    #     fish_num = int(input(\"Enter fish_num: \"))\n",
    "\n",
    "    while True:\n",
    "        if os.path.isfile(os.path.join(start_path, target1)):\n",
    "            # found\n",
    "            print(f\"found {target1} at:\" + start_path)\n",
    "            config.read(os.path.join(start_path, target1))\n",
    "            break\n",
    "        elif os.path.isfile(os.path.join(start_path, target2)):\n",
    "            # found\n",
    "            print(f\"found {target2} at:\" + start_path)\n",
    "            config.read(os.path.join(start_path, target2))\n",
    "            break\n",
    "\n",
    "        if os.path.dirname(start_path) == start_path:  # reached root\n",
    "            # not found\n",
    "            print(\"Error: Can't find notes.txt, Enter manually\")\n",
    "            notes_path = input(\"Enter complete path (should end with .txt): \")\n",
    "            config.read(notes_path)\n",
    "            break\n",
    "        start_path = os.path.dirname(start_path)\n",
    "    # print(config.sections())\n",
    "    abbrev = config.getfloat(f\"Fish {fish_num} Region 1\", \"x_pos\", fallback=False)\n",
    "    if abbrev:\n",
    "        # print('abbreviated')\n",
    "        config_prop_list = [\"x_pos\", \"y_pos\", \"z_pos\"]\n",
    "    else:\n",
    "        # print('not abbreviated')\n",
    "        config_prop_list = [\"x_position\", \"y_position\", \"z_position\"]\n",
    "    stage_coords = np.zeros(shape=(pos_max, 3))\n",
    "    for i in range(1, pos_max + 1):\n",
    "        for j, val in enumerate(config_prop_list):  # x/y/z axes\n",
    "            stage_coords[i - 1][j] = config.getfloat(f\"Fish {fish_num} Region {i}\", val)\n",
    "    print(f\"Found stage_coords: \\n{stage_coords}\")\n",
    "\n",
    "    (ds_h, ds_w) = find_lsm_scope(img.shape[0], img.shape[1])\n",
    "\n",
    "    # The pixel spacing in our LSM image is 1µm in the z axis, and  0.1625µm in the x and y axes.\n",
    "    zd, xd, yd = 1, 0.1625, 0.1625  # zeroth dimension is z in skimage coords\n",
    "    orig_spacing = np.array([zd, xd, yd])  # change to the actual pixel spacing from the microscope\n",
    "    new_spacing = np.array([zd, xd * ds_w, yd * ds_h])  # multiply by the found downsampling factor\n",
    "\n",
    "    # read all images per timepoint then stitch and save them at dest\n",
    "    ch_flag_list = [bf_flag, gfp_flag, rfp_flag]\n",
    "    ch_path_list = [bf_path, gfp_mip_path, rfp_mip_path]\n",
    "    ch_img_list = [bf_img_list, gfp_img_list, rfp_img_list]\n",
    "\n",
    "    for k, ch_flag in enumerate(ch_flag_list):\n",
    "        all_img_list = ch_img_list[k]\n",
    "        ch_name = sub_names[k]\n",
    "\n",
    "        if ch_flag:\n",
    "            print(f\"Stitching {ch_name} images...\")\n",
    "            save_path = os.path.join(\n",
    "                ch_path_list[k], ch_name.casefold() + \"mip_stitched\"\n",
    "            )\n",
    "            if not os.path.exists(save_path):  # check if the dest exists\n",
    "                print(\"Save path doesn't exist.\")\n",
    "                os.makedirs(save_path)\n",
    "                print(f\"Directory '{ch_name.casefold()}_mip_stitched' created\")\n",
    "            else:\n",
    "                print(\"Save path exists\")\n",
    "\n",
    "            for i in tqdm(\n",
    "                range(len(all_img_list) // pos_max)\n",
    "            ):  # run once per timepoint\n",
    "                # print(f\"tp: {i+1}\")\n",
    "                img_list_per_tp = [0] * pos_max\n",
    "                for j in range(0, pos_max):\n",
    "                    loc = i * pos_max + j\n",
    "                    # print(loc)\n",
    "                    img_list_per_tp[j] = tiff.imread(\n",
    "                        os.path.join(ch_path_list[k], all_img_list[loc])\n",
    "                    )  # save all pos images in 3D array\n",
    "\n",
    "                stitched_img = img_stitcher(stage_coords, img_list_per_tp)\n",
    "                stitched_img_uint = skimage.util.img_as_uint(\n",
    "                    skimage.exposure.rescale_intensity(stitched_img)\n",
    "                )  # rescale float and change dtype to uint16\n",
    "                skimage.io.imsave(\n",
    "                    os.path.join(save_path, f\"Timepoint{i+1}_{ch_name}_stitched.png\"),\n",
    "                    stitched_img_uint,\n",
    "                    check_contrast=False,\n",
    "                )  # save the image"
   ]
  },
  {
   "cell_type": "code",
   "execution_count": null,
   "metadata": {},
   "outputs": [],
   "source": []
  }
 ],
 "metadata": {
  "kernelspec": {
   "display_name": "image_analysis",
   "language": "python",
   "name": "python3"
  },
  "language_info": {
   "codemirror_mode": {
    "name": "ipython",
    "version": 3
   },
   "file_extension": ".py",
   "mimetype": "text/x-python",
   "name": "python",
   "nbconvert_exporter": "python",
   "pygments_lexer": "ipython3",
   "version": "3.11.4"
  },
  "orig_nbformat": 4
 },
 "nbformat": 4,
 "nbformat_minor": 2
}
